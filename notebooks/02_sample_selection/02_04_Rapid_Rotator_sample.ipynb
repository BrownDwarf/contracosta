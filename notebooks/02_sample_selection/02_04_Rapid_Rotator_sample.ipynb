{
 "cells": [
  {
   "cell_type": "markdown",
   "id": "substantial-lewis",
   "metadata": {},
   "source": [
    "# Creating Rapid Rotator subsample\n",
    "\n",
    "July 11, 2022  \n",
    "Gully & Ryan H.\n",
    "\n",
    "The goal of this notebook is to make the Rapid Rotator sample."
   ]
  },
  {
   "cell_type": "code",
   "execution_count": null,
   "id": "boxed-subdivision",
   "metadata": {},
   "outputs": [],
   "source": [
    "import pandas as pd\n",
    "import numpy as np\n",
    "import matplotlib.pyplot as plt\n",
    "import seaborn as sns\n",
    "import lightkurve as lk\n",
    "from tqdm import tqdm\n",
    "import time\n",
    "import astropy.units as u\n",
    "import concurrent.futures\n",
    "\n",
    "\n",
    "sns.set_context('notebook', font_scale=1.5)\n",
    "%matplotlib inline\n",
    "%config InlineBackend.figure_format = 'retina'"
   ]
  },
  {
   "cell_type": "code",
   "execution_count": null,
   "id": "antique-fifty",
   "metadata": {},
   "outputs": [],
   "source": [
    "names = ['EPIC','Campaign','Teff','log g','Prot','ΔProt','hpeak','Rvar','Kp','MG']"
   ]
  },
  {
   "cell_type": "code",
   "execution_count": null,
   "id": "educated-permit",
   "metadata": {},
   "outputs": [],
   "source": [
    "df = pd.read_csv('../../data/Reinhold_Hekker2020/table2.dat', \n",
    "                 delim_whitespace=True, names=names, na_values='---')"
   ]
  },
  {
   "cell_type": "code",
   "execution_count": null,
   "id": "00c9e064",
   "metadata": {},
   "outputs": [],
   "source": [
    "df_rapid_rotator = pd.read_csv('../../data/Rapid_Rotator_Sample.csv')"
   ]
  },
  {
   "cell_type": "markdown",
   "id": "streaming-qualification",
   "metadata": {},
   "source": [
    "Looks good!  We see the same trend we had in our proposal figure 2."
   ]
  },
  {
   "cell_type": "markdown",
   "id": "sealed-upper",
   "metadata": {},
   "source": [
    "## Select a subsample of sources"
   ]
  },
  {
   "cell_type": "markdown",
   "id": "large-porcelain",
   "metadata": {},
   "source": [
    "First search for some high amplitude variable stars"
   ]
  },
  {
   "cell_type": "code",
   "execution_count": null,
   "id": "amber-channels",
   "metadata": {},
   "outputs": [],
   "source": [
    "criterion = (df.Prot < 10)"
   ]
  },
  {
   "cell_type": "code",
   "execution_count": null,
   "id": "approximate-trick",
   "metadata": {},
   "outputs": [],
   "source": [
    "criterion.sum()"
   ]
  },
  {
   "cell_type": "code",
   "execution_count": null,
   "id": "toxic-kingston",
   "metadata": {},
   "outputs": [],
   "source": [
    "#plt.plot(df.Prot, df.Rvar, '.', alpha=0.02);\n",
    "plt.plot(df.Prot[criterion], df.Rvar[criterion], '.');\n",
    "#plt.ylim(3e2, 2e5)\n",
    "plt.xlim(1e0, 1e2)\n",
    "plt.xscale('log')\n",
    "plt.yscale('log')\n",
    "plt.xlabel('$P_{\\mathrm{rot}}$')\n",
    "plt.ylabel('$\\propto$ Amplitude (%)')\n",
    "plt.title('Reinhold & Hekker 2020 Table 2')"
   ]
  },
  {
   "cell_type": "code",
   "execution_count": null,
   "id": "offensive-evening",
   "metadata": {},
   "outputs": [],
   "source": [
    "df_subset=df[criterion].reset_index(drop=True)"
   ]
  },
  {
   "cell_type": "markdown",
   "id": "dressed-auction",
   "metadata": {},
   "source": [
    "## Make a subsub sample"
   ]
  },
  {
   "cell_type": "markdown",
   "id": "spread-packing",
   "metadata": {},
   "source": [
    "### Prepopulate our columns"
   ]
  },
  {
   "cell_type": "code",
   "execution_count": null,
   "id": "unlike-price",
   "metadata": {},
   "outputs": [],
   "source": [
    "df_subset['N_EVEREST'] = np.NaN\n",
    "df_subset['N_TESS_SPOC'] = np.NaN\n",
    "df_subset['Period_TESS'] = 0\n",
    "df_subset['Amplitude_TESS'] = 0\n",
    "df_subset['Period_K2'] = 0\n",
    "df_subset['Amplitude_K2'] = 0\n",
    "df_subset['Sector'] = np.NaN"
   ]
  },
  {
   "cell_type": "code",
   "execution_count": null,
   "id": "directed-portrait",
   "metadata": {},
   "outputs": [],
   "source": [
    "df_tiny = df_subset.head(15)"
   ]
  },
  {
   "cell_type": "markdown",
   "id": "quick-military",
   "metadata": {},
   "source": [
    "### Predownload so that it runs faster later"
   ]
  },
  {
   "cell_type": "markdown",
   "id": "potential-thumb",
   "metadata": {},
   "source": [
    "Let's find one of the sources that *also* has TESS data available"
   ]
  },
  {
   "cell_type": "markdown",
   "id": "settled-relevance",
   "metadata": {},
   "source": [
    "Delete the cell below if you want to run on the entire subset of 400+ sources..."
   ]
  },
  {
   "cell_type": "markdown",
   "id": "6f8b7e65",
   "metadata": {},
   "source": [
    "df_subset = df_tiny"
   ]
  },
  {
   "cell_type": "code",
   "execution_count": null,
   "id": "immune-investigation",
   "metadata": {},
   "outputs": [],
   "source": [
    "n_sources = len(df_subset)\n",
    "n_sources"
   ]
  },
  {
   "cell_type": "markdown",
   "id": "blind-browser",
   "metadata": {},
   "source": [
    "We want to have at least 1 EVEREST lightcurve and 1 SPOC lightcurve for all sources."
   ]
  },
  {
   "cell_type": "code",
   "execution_count": null,
   "id": "76ac958b",
   "metadata": {},
   "outputs": [],
   "source": [
    "def add_data(data):\n",
    "    # data = [mission, index, search result]\n",
    "    mission, idx, sr = data\n",
    "    def add_data_helper(mission, idx, sr, num):\n",
    "        lc = sr[num].download()\n",
    "        # remove NaNs and normalize the data\n",
    "        lc = lc.remove_nans().remove_outliers()\n",
    "        # find the amplitude percentage\n",
    "        vector = lc.flux.value\n",
    "        lo, hi = np.percentile(vector, (5, 95))\n",
    "        peak_to_valley = hi-lo\n",
    "        # add the data to the table\n",
    "        df_subset.loc[idx, f'Amplitude_{mission}'] = peak_to_valley\n",
    "        # change the lightcurve into a periodogram and find its period\n",
    "        period = float(lc.to_periodogram(minimum_period=.1, maximum_period=10).period_at_max_power.to_value())\n",
    "        # add the period to the data table\n",
    "        df_subset.loc[idx, f'Period_{mission}'] = period\n",
    "        if mission == 'TESS':\n",
    "            # find the sector number and add it to the data table\n",
    "            df_subset.loc[idx, 'Sector'] = lc.sector\n",
    "\n",
    "    if len(sr) > 0:\n",
    "        try:\n",
    "            add_data_helper(mission, idx, sr, 0)\n",
    "        except:\n",
    "            add_data_helper(mission, idx, sr, 1)\n",
    "        finally:\n",
    "            return\n",
    "\n",
    "def download(data):\n",
    "    name, index, mission = data\n",
    "    if mission == 0:\n",
    "        sr = lk.search_lightcurve(name, mission='TESS')\n",
    "        df_subset.loc[index, 'N_TESS_SPOC'] = len(sr)\n",
    "    elif mission == 1:\n",
    "        sr = lk.search_lightcurve(name, author='EVEREST')\n",
    "        df_subset.loc[index, 'N_EVEREST'] = len(sr)\n",
    "    return index, sr"
   ]
  },
  {
   "cell_type": "code",
   "execution_count": null,
   "id": "5dc72b7e",
   "metadata": {},
   "outputs": [],
   "source": [
    "start = time.time()\n",
    "def main():\n",
    "\n",
    "    TESS_download = []\n",
    "    K2_download = []\n",
    "    for i in range(n_sources):\n",
    "        # find the name of the star\n",
    "        name = 'EPIC ' + df_subset.iloc[i].EPIC.astype(int).astype(str)\n",
    "        TESS_download.append([name, i, 0])\n",
    "        K2_download.append([name, i, 1])\n",
    "\n",
    "\n",
    "    TESS_data = []\n",
    "    K2_data = []\n",
    "\n",
    "    with concurrent.futures.ThreadPoolExecutor(max_workers=20) as executor:\n",
    "        TESS_sr = executor.map(download, TESS_download)\n",
    "        K2_sr = executor.map(download, K2_download)\n",
    "\n",
    "        for result in TESS_sr:\n",
    "            TESS_data.append(['TESS', result[0], result[1]])\n",
    "        for result in K2_sr:\n",
    "            K2_data.append(['K2', result[0], result[1]])\n",
    "\n",
    "    for i in range(n_sources):\n",
    "        add_data(TESS_data[i])\n",
    "        add_data(K2_data[i])\n",
    "    \n",
    "end = time.time()"
   ]
  },
  {
   "cell_type": "code",
   "execution_count": null,
   "id": "64d2dbe8",
   "metadata": {},
   "outputs": [],
   "source": [
    "if __name__ == '__main__':\n",
    "    main()"
   ]
  },
  {
   "cell_type": "code",
   "execution_count": null,
   "id": "da3bdb72",
   "metadata": {},
   "outputs": [],
   "source": [
    "df_subset = df_rapid_rotator"
   ]
  },
  {
   "cell_type": "markdown",
   "id": "17ad0d7b",
   "metadata": {},
   "source": [
    "## Complitation times\n",
    "\n",
    "**15 Stars:**  \n",
    "Desktop:  \n",
    "fresh download time ~ 42 seconds  \n",
    "pre-downloaded time ~ 33.65 seconds  \n",
    "cached time ~ 2.6 seconds  \n",
    "  \n",
    "\n",
    "Laptop:  \n",
    "fresh download time ~ 46 seconds  \n",
    "pre-downloaded time ~ 33.8 seconds  \n",
    "cached time ~ 2.39 seconds  \n",
    "\n",
    "------------------------------------------------------------  \n",
    "\n",
    "**416 Stars:**  \n",
    "Desktop:  \n",
    "fresh download time ~ 1359.3 seconds ~ 22.6 minutes  \n",
    "pre-downloaded time ~ 808 seconds ~ 13.5 minutes  \n",
    "cached time ~ 100 seconds  \n",
    "  \n",
    "\n",
    "Laptop:  \n",
    "fresh download time ~ 1747.5 seconds ~ 29.1 minutes  \n",
    "pre-downloaded time ~ 936.8 seconds ~ 15.6 minutes  \n",
    "cached time ~ 66.4 seconds  \n",
    "\n",
    "------------------------------------------------------------  \n",
    "\n",
    "**4196 Stars:**\n",
    "Desktop:  \n",
    "fresh download time ~ ?? seconds ~ ?? minutes  \n",
    "pre-downloaded time ~ ?? seconds ~ ?? minutes  \n",
    "cached time ~ ?? seconds  \n",
    "  \n",
    "\n",
    "Laptop:  \n",
    "fresh download time ~ ?? seconds ~ ?? minutes  \n",
    "pre-downloaded time ~ ?? seconds ~ ?? minutes  \n",
    "cached time ~ ?? seconds  "
   ]
  },
  {
   "cell_type": "code",
   "execution_count": null,
   "id": "straight-sauce",
   "metadata": {},
   "outputs": [],
   "source": [
    "df_subset.to_csv('New_Rapid_Rotator_Sample.csv', index=False)"
   ]
  },
  {
   "cell_type": "code",
   "execution_count": null,
   "id": "0792e8c9",
   "metadata": {},
   "outputs": [],
   "source": []
  },
  {
   "cell_type": "markdown",
   "id": "4adeb36c",
   "metadata": {},
   "source": [
    "## Spot check one source..."
   ]
  },
  {
   "cell_type": "code",
   "execution_count": null,
   "id": "b4ed5d1b",
   "metadata": {},
   "outputs": [],
   "source": [
    "name = '202083650'"
   ]
  },
  {
   "cell_type": "code",
   "execution_count": null,
   "id": "88e36e71",
   "metadata": {},
   "outputs": [],
   "source": [
    "k2_lc = lk.search_lightcurve(name, author='EVEREST').download().remove_nans().remove_outliers().flatten()\n",
    "k2_lc = lk.SFFCorrector(k2_lc).correct(windows=20)"
   ]
  },
  {
   "cell_type": "code",
   "execution_count": null,
   "id": "63cb3a83",
   "metadata": {},
   "outputs": [],
   "source": [
    "ax = k2_lc.plot()\n",
    "# ax.set_ylim(.9, 1.1)\n",
    "# ax.set_ylim(180000, 190000)"
   ]
  },
  {
   "cell_type": "markdown",
   "id": "cd648705",
   "metadata": {},
   "source": [
    "## Plotting the data"
   ]
  },
  {
   "cell_type": "code",
   "execution_count": null,
   "id": "d5d94790",
   "metadata": {},
   "outputs": [],
   "source": [
    "bad_mask1 = df_subset.Period_TESS > df_subset.Period_K2 * 0.8\n",
    "bad_mask2 = df_subset.Period_K2 > df_subset.Period_TESS * 0.8\n",
    "bad_mask3 = (df_subset.Period_TESS < 7) & (df_subset.Period_K2 < 7)\n",
    "mask = bad_mask1 & bad_mask2 & bad_mask3"
   ]
  },
  {
   "cell_type": "code",
   "execution_count": null,
   "id": "ef82ea7f",
   "metadata": {},
   "outputs": [],
   "source": [
    "df_comparison = df_subset[mask].reset_index(drop=True)"
   ]
  },
  {
   "cell_type": "code",
   "execution_count": null,
   "id": "2f1d87ad",
   "metadata": {},
   "outputs": [],
   "source": [
    "plt.figure(figsize=(6,6))\n",
    "\n",
    "plt.ylim(0.5, 10)\n",
    "plt.xlim(0.5, 10)\n",
    "\n",
    "plt.xlabel('$P_{\\mathrm{Kepler}}$')\n",
    "plt.ylabel('$P_{\\mathrm{TESS}}$')\n",
    "\n",
    "plt.title('Comparison Between TESS and Kepler Amplitudes')\n",
    "\n",
    "plt.plot(df_comparison.Period_K2, df_comparison.Period_TESS, 'r.', label='Star Amplitude')\n",
    "\n",
    "x = [0.5, 10]\n",
    "y = [0.5, 10]\n",
    "plt.plot(x, y, label='Perfect Correlation')\n",
    "\n",
    "\n",
    "plt.legend()\n",
    "plt.show()"
   ]
  },
  {
   "cell_type": "code",
   "execution_count": null,
   "id": "860ac4b2",
   "metadata": {},
   "outputs": [],
   "source": [
    "len(df_comparison)"
   ]
  },
  {
   "cell_type": "markdown",
   "id": "1d5214eb",
   "metadata": {},
   "source": [
    "## Receate fig2.pdf plot from proposal"
   ]
  },
  {
   "cell_type": "code",
   "execution_count": null,
   "id": "f8a37a3f",
   "metadata": {},
   "outputs": [],
   "source": [
    "# create a new dataframe that only includes stars with Kepler and TESS data available\n",
    "criterion = df_subset.Amplitude_TESS > 0.00005\n",
    "df_both = df_subset[criterion].reset_index(drop=True)"
   ]
  },
  {
   "cell_type": "code",
   "execution_count": null,
   "id": "e1231677",
   "metadata": {},
   "outputs": [],
   "source": [
    "TESS_mean = df_both['Amplitude_TESS'].mean()\n",
    "K2_mean = df_both['Amplitude_K2'].mean()"
   ]
  },
  {
   "cell_type": "code",
   "execution_count": null,
   "id": "3fb6c9c9",
   "metadata": {},
   "outputs": [],
   "source": [
    "ax = plt.subplot(111)\n",
    "\n",
    "ax.plot(df_both.Period_K2, df_both.Amplitude_K2, '.', color='black', label='Kepler')\n",
    "ax.plot(df_both.Period_TESS, df_both.Amplitude_TESS, '.', color='red', label='TESS')\n",
    "\n",
    "fig_size = plt.rcParams[\"figure.figsize\"]\n",
    "fig_size[0] = 20\n",
    "fig_size[1] = 5\n",
    "plt.rcParams[\"figure.figsize\"] = fig_size\n",
    "\n",
    "ax.axhline(TESS_mean, linestyle='dashed', label='TESS mean amplitude', color='green')\n",
    "ax.axhline(K2_mean, linestyle='dashed', label='Kepler mean amplitude', color='blue')\n",
    "\n",
    "ax.set_xscale('log')\n",
    "ax.set_yscale('log')\n",
    "\n",
    "ax.set_xlim(0.5, 100)\n",
    "ax.set_ylim(0.5, 1e5)\n",
    "\n",
    "ax.axhline(1e3, linestyle='dotted', label='1%', color='purple')\n",
    "ax.axvline(27, linestyle='dashed', label='27 days', color='purple')\n",
    "\n",
    "chartBox = ax.get_position()\n",
    "ax.set_position([chartBox.x0, chartBox.y0, chartBox.width*0.6, chartBox.height])\n",
    "ax.legend(loc='upper center', bbox_to_anchor=(1.2, 0.75), shadow=True, ncol=1)\n",
    "\n",
    "ax.set_xlabel('$P_{\\mathrm{rot}}$')\n",
    "ax.set_ylabel('$\\propto$ Amplitude (%)')\n",
    "ax.set_title('Predicted for 4000 < $T_{\\mathrm{eff}}$ < 4500 in TESS')\n",
    "\n",
    "plt.show()"
   ]
  },
  {
   "cell_type": "code",
   "execution_count": null,
   "id": "d28ce5b5",
   "metadata": {},
   "outputs": [],
   "source": [
    "ratio = (TESS_mean/K2_mean) * 100\n",
    "print(f'{ratio} %')"
   ]
  }
 ],
 "metadata": {
  "kernelspec": {
   "display_name": "Python 3",
   "language": "python",
   "name": "python3"
  },
  "language_info": {
   "codemirror_mode": {
    "name": "ipython",
    "version": 3
   },
   "file_extension": ".py",
   "mimetype": "text/x-python",
   "name": "python",
   "nbconvert_exporter": "python",
   "pygments_lexer": "ipython3",
   "version": "3.8.13"
  },
  "vscode": {
   "interpreter": {
    "hash": "b35b03c3ac9cbf5001493e5ff23c42dd8f9188277db64dd08850bcd62e251f33"
   }
  }
 },
 "nbformat": 4,
 "nbformat_minor": 5
}
