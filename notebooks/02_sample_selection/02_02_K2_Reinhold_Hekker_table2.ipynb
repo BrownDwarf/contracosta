{
 "cells": [
  {
   "cell_type": "markdown",
   "id": "alive-episode",
   "metadata": {},
   "source": [
    "# Reinhold & Hekker 2020 Table 2\n",
    "\n",
    "June 15, 2022  \n",
    "Gully & Ryan H.\n",
    "\n",
    "The goal of this notebook is to read in Table 2 of the K2 rotation period paper."
   ]
  },
  {
   "cell_type": "code",
   "execution_count": null,
   "id": "ahead-privilege",
   "metadata": {},
   "outputs": [],
   "source": [
    "import pandas as pd\n",
    "import numpy as np\n",
    "import matplotlib.pyplot as plt\n",
    "import seaborn as sns\n",
    "\n",
    "\n",
    "sns.set_context('notebook', font_scale=1.5)\n",
    "%matplotlib inline\n",
    "%config InlineBackend.figure_format = 'retina'"
   ]
  },
  {
   "cell_type": "markdown",
   "id": "domestic-swift",
   "metadata": {},
   "source": [
    "### Programmatically fetch the table from CDS\n",
    "\n",
    "We want Table 2 from [this paper](https://ui.adsabs.harvard.edu/abs/2020A%26A...635A..43R/abstract)."
   ]
  },
  {
   "cell_type": "code",
   "execution_count": null,
   "id": "proof-monkey",
   "metadata": {},
   "outputs": [],
   "source": [
    "#! mkdir ../../data/Reinhold_Hekker2020\n",
    "#! mv /home/gully/Downloads/table2.dat.gz ../../data/Reinhold_Hekker2020/\n",
    "# Extract the table...\n",
    "#! du -hs ../../data/Reinhold_Hekker2020/\n",
    "#! head ../../data/Reinhold_Hekker2020/table2.dat"
   ]
  },
  {
   "cell_type": "markdown",
   "id": "sunset-celebrity",
   "metadata": {},
   "source": [
    "| Column Name | Unit | Description|\n",
    "| -- | -- | -- | \n",
    "|EPIC| | |\n",
    "|Campaign| |\n",
    "|Teff| K| Effective Temperature|\n",
    "|log g| dex| Surface Gravity|\n",
    "|Prot| days  | Rotation period|\n",
    "|ΔProt| days| Uncertainty in rotation period|\n",
    "|hpeak| | ?|\n",
    "|Rvar| %| Proportional to Amplitude |\n",
    "|Kp|mag| Kepler magnitude|\n",
    "|MG|mag| Absolute Magnitude |"
   ]
  },
  {
   "cell_type": "code",
   "execution_count": null,
   "id": "headed-banks",
   "metadata": {},
   "outputs": [],
   "source": [
    "names = ['EPIC','Campaign','Teff','log g','Prot','ΔProt','hpeak','Rvar','Kp','MG']"
   ]
  },
  {
   "cell_type": "code",
   "execution_count": null,
   "id": "several-clinic",
   "metadata": {},
   "outputs": [],
   "source": [
    "df = pd.read_csv('../../data/Reinhold_Hekker2020/table2.dat', \n",
    "                 delim_whitespace=True, names=names, na_values='---')"
   ]
  },
  {
   "cell_type": "markdown",
   "id": "sorted-antarctica",
   "metadata": {},
   "source": [
    "Looks good!  We see the same trend we had in our proposal figure 2."
   ]
  },
  {
   "cell_type": "markdown",
   "id": "610656a9",
   "metadata": {},
   "source": [
    "## Select a subsample of sources"
   ]
  },
  {
   "cell_type": "markdown",
   "id": "cd3255eb",
   "metadata": {},
   "source": [
    "First search for some high amplitude variable stars"
   ]
  },
  {
   "cell_type": "code",
   "execution_count": null,
   "id": "6e676b9f",
   "metadata": {},
   "outputs": [],
   "source": [
    "criterion1 = (df.Prot < 7) & (df.Prot > 4)"
   ]
  },
  {
   "cell_type": "code",
   "execution_count": null,
   "id": "7d7bc595",
   "metadata": {},
   "outputs": [],
   "source": [
    "criterion1.sum()"
   ]
  },
  {
   "cell_type": "code",
   "execution_count": null,
   "id": "cec065c5",
   "metadata": {},
   "outputs": [],
   "source": [
    "criterion2 = (df.Rvar > 1) & (df.Rvar < 6)"
   ]
  },
  {
   "cell_type": "code",
   "execution_count": null,
   "id": "c6aacee9",
   "metadata": {},
   "outputs": [],
   "source": [
    "criterion2.sum()"
   ]
  },
  {
   "cell_type": "code",
   "execution_count": null,
   "id": "40953452",
   "metadata": {},
   "outputs": [],
   "source": [
    "criterion3 = (df.Teff > 4000) & (df.Teff < 4500)"
   ]
  },
  {
   "cell_type": "code",
   "execution_count": null,
   "id": "6468a73a",
   "metadata": {},
   "outputs": [],
   "source": [
    "criterion3.sum()"
   ]
  },
  {
   "cell_type": "code",
   "execution_count": null,
   "id": "cb303bb5",
   "metadata": {},
   "outputs": [],
   "source": [
    "criteria = criterion1 & criterion2 & criterion3"
   ]
  },
  {
   "cell_type": "code",
   "execution_count": null,
   "id": "f9c13dd5",
   "metadata": {},
   "outputs": [],
   "source": [
    "criteria.sum()"
   ]
  },
  {
   "cell_type": "code",
   "execution_count": null,
   "id": "01f97f3f",
   "metadata": {},
   "outputs": [],
   "source": [
    "#plt.plot(df.Prot, df.Rvar, '.', alpha=0.02);\n",
    "plt.plot(df.Prot[criterion3], df.Rvar[criterion3], '.', alpha=0.1);\n",
    "plt.plot(df.Prot[criteria], df.Rvar[criteria], '.', alpha=0.5);\n",
    "#plt.ylim(3e2, 2e5)\n",
    "plt.xlim(1e0, 1e2)\n",
    "plt.xscale('log')\n",
    "plt.yscale('log')\n",
    "plt.xlabel('$P_{\\mathrm{rot}}$')\n",
    "plt.ylabel('$\\propto$ Amplitude (%)')\n",
    "plt.title('Reinhold & Hekker 2020 Table 2')"
   ]
  },
  {
   "cell_type": "code",
   "execution_count": null,
   "id": "1b40bf6d",
   "metadata": {},
   "outputs": [],
   "source": [
    "df[criteria].head()"
   ]
  },
  {
   "cell_type": "markdown",
   "id": "b769b0f4",
   "metadata": {},
   "source": [
    "## Spot check the subsample"
   ]
  },
  {
   "cell_type": "code",
   "execution_count": null,
   "id": "14e74e53",
   "metadata": {},
   "outputs": [],
   "source": [
    "import lightkurve as lk"
   ]
  },
  {
   "cell_type": "code",
   "execution_count": null,
   "id": "76242e02",
   "metadata": {},
   "outputs": [],
   "source": [
    "sr = lk.search_lightcurve(\"EPIC 201377225\", author=\"EVEREST\", mission=\"K2\")"
   ]
  },
  {
   "cell_type": "code",
   "execution_count": null,
   "id": "103d755b",
   "metadata": {},
   "outputs": [],
   "source": [
    "assert len(sr) == 1"
   ]
  },
  {
   "cell_type": "code",
   "execution_count": null,
   "id": "352f6cc2",
   "metadata": {},
   "outputs": [],
   "source": [
    "lc=sr.download()"
   ]
  },
  {
   "cell_type": "code",
   "execution_count": null,
   "id": "9bc1b631",
   "metadata": {},
   "outputs": [],
   "source": [
    "lc = lc.remove_outliers(sigma=4,sigma_upper=3).normalize()"
   ]
  },
  {
   "cell_type": "code",
   "execution_count": null,
   "id": "de53a8a4",
   "metadata": {},
   "outputs": [],
   "source": [
    "pg = lc.to_periodogram(nterms=5)"
   ]
  },
  {
   "cell_type": "code",
   "execution_count": null,
   "id": "70b03731",
   "metadata": {},
   "outputs": [],
   "source": [
    "ax = pg.plot(view='period', scale='log')\n",
    "ax.axvline(pg.period_at_max_power.value, linestyle='dotted', label=f'{pg.period_at_max_power:0.5f}')\n",
    "ax.axvline(6.70, linestyle='dashed', label='6.7 d (Reinhold & Hekker 2020)', color = 'red')\n",
    "ax.legend(fontsize = 12)"
   ]
  },
  {
   "cell_type": "code",
   "execution_count": null,
   "id": "55381756",
   "metadata": {},
   "outputs": [],
   "source": [
    "pg.period_at_max_power"
   ]
  },
  {
   "cell_type": "code",
   "execution_count": null,
   "id": "20f13634",
   "metadata": {},
   "outputs": [],
   "source": [
    "ax = lc.plot()\n",
    "pg.model(lc.time).plot(ax=ax)\n",
    "pg.model(lc.time, frequency=pg.frequency_at_max_power/2).plot(ax=ax)"
   ]
  }
 ],
 "metadata": {
  "kernelspec": {
   "display_name": "Python 3",
   "language": "python",
   "name": "python3"
  },
  "language_info": {
   "codemirror_mode": {
    "name": "ipython",
    "version": 3
   },
   "file_extension": ".py",
   "mimetype": "text/x-python",
   "name": "python",
   "nbconvert_exporter": "python",
   "pygments_lexer": "ipython3",
   "version": "3.8.13"
  }
 },
 "nbformat": 4,
 "nbformat_minor": 5
}
