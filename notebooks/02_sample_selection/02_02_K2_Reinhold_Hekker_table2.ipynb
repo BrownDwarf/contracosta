{
 "cells": [
  {
   "cell_type": "markdown",
   "id": "forbidden-reset",
   "metadata": {},
   "source": [
    "# Reinhold & Hekker 2020 Table 2\n",
    "\n",
    "June 15, 2022  \n",
    "Gully & Ryan H.\n",
    "\n",
    "The goal of this notebook is to read in Table 2 of the K2 rotation period paper."
   ]
  },
  {
   "cell_type": "code",
   "execution_count": null,
   "id": "complimentary-museum",
   "metadata": {},
   "outputs": [],
   "source": [
    "import pandas as pd\n",
    "import numpy as np\n",
    "import matplotlib.pyplot as plt\n",
    "import seaborn as sns\n",
    "\n",
    "\n",
    "sns.set_context('notebook', font_scale=1.5)\n",
    "%matplotlib inline\n",
    "%config InlineBackend.figure_format = 'retina'"
   ]
  },
  {
   "cell_type": "markdown",
   "id": "written-sailing",
   "metadata": {},
   "source": [
    "### Programmatically fetch the table from CDS\n",
    "\n",
    "We want Table 2 from [this paper](https://ui.adsabs.harvard.edu/abs/2020A%26A...635A..43R/abstract)."
   ]
  },
  {
   "cell_type": "code",
   "execution_count": null,
   "id": "collectible-check",
   "metadata": {},
   "outputs": [],
   "source": [
    "#! mkdir ../../data/Reinhold_Hekker2020\n",
    "#! mv /home/gully/Downloads/table2.dat.gz ../../data/Reinhold_Hekker2020/\n",
    "# Extract the table...\n",
    "#! du -hs ../../data/Reinhold_Hekker2020/\n",
    "#! head ../../data/Reinhold_Hekker2020/table2.dat"
   ]
  },
  {
   "cell_type": "markdown",
   "id": "incredible-arcade",
   "metadata": {},
   "source": [
    "| Column Name | Unit | Description|\n",
    "| -- | -- | -- | \n",
    "|EPIC| | |\n",
    "|Campaign| |\n",
    "|Teff| K| Effective Temperature|\n",
    "|log g| dex| Surface Gravity|\n",
    "|Prot| days  | Rotation period|\n",
    "|ΔProt| days| Uncertainty in rotation period|\n",
    "|hpeak| | ?|\n",
    "|Rvar| %| Proportional to Amplitude |\n",
    "|Kp|mag| Kepler magnitude|\n",
    "|MG|mag| Absolute Magnitude |"
   ]
  },
  {
   "cell_type": "code",
   "execution_count": null,
   "id": "essential-dallas",
   "metadata": {},
   "outputs": [],
   "source": [
    "names = ['EPIC','Campaign','Teff','log g','Prot','ΔProt','hpeak','Rvar','Kp','MG']"
   ]
  },
  {
   "cell_type": "code",
   "execution_count": null,
   "id": "nutritional-carolina",
   "metadata": {},
   "outputs": [],
   "source": [
    "df = pd.read_csv('../../data/Reinhold_Hekker2020/table2.dat', \n",
    "                 delim_whitespace=True, names=names, na_values='---')"
   ]
  },
  {
   "cell_type": "markdown",
   "id": "compliant-mileage",
   "metadata": {},
   "source": [
    "Looks good!  We see the same trend we had in our proposal figure 2."
   ]
  },
  {
   "cell_type": "markdown",
   "id": "structural-mailing",
   "metadata": {},
   "source": [
    "## Select a subsample of sources"
   ]
  },
  {
   "cell_type": "markdown",
   "id": "structured-tourism",
   "metadata": {},
   "source": [
    "First search for some high amplitude variable stars"
   ]
  },
  {
   "cell_type": "code",
   "execution_count": null,
   "id": "elegant-waters",
   "metadata": {},
   "outputs": [],
   "source": [
    "criterion1 = (df.Prot < 7) & (df.Prot > 6)"
   ]
  },
  {
   "cell_type": "code",
   "execution_count": null,
   "id": "affecting-southeast",
   "metadata": {},
   "outputs": [],
   "source": [
    "criterion1.sum()"
   ]
  },
  {
   "cell_type": "code",
   "execution_count": null,
   "id": "coordinated-abuse",
   "metadata": {},
   "outputs": [],
   "source": [
    "criterion2 = (df.Rvar > 3) & (df.Rvar < 6)"
   ]
  },
  {
   "cell_type": "code",
   "execution_count": null,
   "id": "humanitarian-funeral",
   "metadata": {},
   "outputs": [],
   "source": [
    "criterion2.sum()"
   ]
  },
  {
   "cell_type": "code",
   "execution_count": null,
   "id": "empty-trout",
   "metadata": {},
   "outputs": [],
   "source": [
    "criterion3 = (df.Teff > 4000) & (df.Teff < 4500)"
   ]
  },
  {
   "cell_type": "code",
   "execution_count": null,
   "id": "hispanic-trout",
   "metadata": {},
   "outputs": [],
   "source": [
    "criterion3.sum()"
   ]
  },
  {
   "cell_type": "code",
   "execution_count": null,
   "id": "determined-exception",
   "metadata": {},
   "outputs": [],
   "source": [
    "criteria = criterion1 & criterion2 & criterion3"
   ]
  },
  {
   "cell_type": "code",
   "execution_count": null,
   "id": "annoying-poker",
   "metadata": {},
   "outputs": [],
   "source": [
    "criteria.sum()"
   ]
  },
  {
   "cell_type": "code",
   "execution_count": null,
   "id": "responsible-twelve",
   "metadata": {},
   "outputs": [],
   "source": [
    "#plt.plot(df.Prot, df.Rvar, '.', alpha=0.02);\n",
    "plt.plot(df.Prot[criterion3], df.Rvar[criterion3], '.', alpha=0.1);\n",
    "plt.plot(df.Prot[criteria], df.Rvar[criteria], '.', alpha=0.5);\n",
    "#plt.ylim(3e2, 2e5)\n",
    "plt.xlim(1e0, 1e2)\n",
    "plt.xscale('log')\n",
    "plt.yscale('log')\n",
    "plt.xlabel('$P_{\\mathrm{rot}}$')\n",
    "plt.ylabel('$\\propto$ Amplitude (%)')\n",
    "plt.title('Reinhold & Hekker 2020 Table 2')"
   ]
  },
  {
   "cell_type": "code",
   "execution_count": null,
   "id": "liable-standard",
   "metadata": {},
   "outputs": [],
   "source": [
    "df[criteria].head()"
   ]
  },
  {
   "cell_type": "code",
   "execution_count": null,
   "id": "bearing-genetics",
   "metadata": {},
   "outputs": [],
   "source": [
    "df_subset=df[criteria].reset_index(drop=True)"
   ]
  },
  {
   "cell_type": "code",
   "execution_count": null,
   "id": "increased-sally",
   "metadata": {},
   "outputs": [],
   "source": [
    "df_subset"
   ]
  },
  {
   "cell_type": "markdown",
   "id": "selective-dragon",
   "metadata": {},
   "source": [
    "## Spot check the subsample"
   ]
  },
  {
   "cell_type": "code",
   "execution_count": null,
   "id": "internal-genetics",
   "metadata": {},
   "outputs": [],
   "source": [
    "import lightkurve as lk"
   ]
  },
  {
   "cell_type": "markdown",
   "id": "roman-barrier",
   "metadata": {},
   "source": [
    "Let's find one of the sources that *also* has TESS data available"
   ]
  },
  {
   "cell_type": "code",
   "execution_count": null,
   "id": "swedish-specification",
   "metadata": {},
   "outputs": [],
   "source": [
    "n_sources = len(df_subset)\n",
    "n_sources"
   ]
  },
  {
   "cell_type": "code",
   "execution_count": null,
   "id": "innocent-metadata",
   "metadata": {},
   "outputs": [],
   "source": [
    "df_subset['N_TESS'] = 0"
   ]
  },
  {
   "cell_type": "code",
   "execution_count": null,
   "id": "useful-walter",
   "metadata": {},
   "outputs": [],
   "source": [
    "df_subset"
   ]
  },
  {
   "cell_type": "code",
   "execution_count": null,
   "id": "precious-letters",
   "metadata": {},
   "outputs": [],
   "source": [
    "from tqdm import tqdm"
   ]
  },
  {
   "cell_type": "code",
   "execution_count": null,
   "id": "humanitarian-causing",
   "metadata": {},
   "outputs": [],
   "source": [
    "for i in tqdm(range(n_sources)):\n",
    "    name = 'EPIC '+df_subset.iloc[i].EPIC.astype(int).astype(str)\n",
    "    sr = lk.search_lightcurve(name, mission=\"TESS\", author='SPOC')\n",
    "    df_subset.loc[i, 'N_TESS'] = len(sr)"
   ]
  },
  {
   "cell_type": "code",
   "execution_count": null,
   "id": "improved-timber",
   "metadata": {},
   "outputs": [],
   "source": [
    "df_subset"
   ]
  },
  {
   "cell_type": "code",
   "execution_count": null,
   "id": "intense-handy",
   "metadata": {},
   "outputs": [],
   "source": [
    "sr = lk.search_lightcurve(\"EPIC 211071889\", author=\"EVEREST\", mission=\"K2\")\n",
    "sr"
   ]
  },
  {
   "cell_type": "code",
   "execution_count": null,
   "id": "headed-working",
   "metadata": {},
   "outputs": [],
   "source": [
    "lc_K2 = sr.download()"
   ]
  },
  {
   "cell_type": "code",
   "execution_count": null,
   "id": "illegal-crowd",
   "metadata": {},
   "outputs": [],
   "source": [
    "sr = lk.search_lightcurve(\"EPIC 211071889\", author=\"SPOC\", mission=\"TESS\")\n",
    "sr[0]"
   ]
  },
  {
   "cell_type": "code",
   "execution_count": null,
   "id": "western-relative",
   "metadata": {},
   "outputs": [],
   "source": [
    "lc_TESS = sr[0].download()"
   ]
  },
  {
   "cell_type": "code",
   "execution_count": null,
   "id": "available-worst",
   "metadata": {},
   "outputs": [],
   "source": [
    "scalar = np.percentile(lc_K2.flux, 98)\n",
    "lc_K2 = lc_K2/scalar\n",
    "ax = lc_K2.plot()\n",
    "ax.axhline(1.0, linestyle='dashed')\n",
    "ax.axhline(0.93, linestyle='dotted', color='#d35400', label='7 % flux loss')\n",
    "ax.set_title('K2 data')\n",
    "ax.set_ylim(0.8, 1.1)\n",
    "ax.legend()"
   ]
  },
  {
   "cell_type": "code",
   "execution_count": null,
   "id": "statewide-patient",
   "metadata": {},
   "outputs": [],
   "source": [
    "lc_TESS = lc_TESS.remove_nans().bin(binsize=5)\n",
    "scalar = np.nanpercentile(lc_TESS.flux, 98)\n",
    "lc_TESS = lc_TESS/scalar"
   ]
  },
  {
   "cell_type": "code",
   "execution_count": null,
   "id": "guilty-configuration",
   "metadata": {},
   "outputs": [],
   "source": [
    "ax = lc_TESS.plot()\n",
    "ax.axhline(1.0, linestyle='dashed')\n",
    "ax.axhline(0.93, linestyle='dotted', color='#d35400', label='7 % flux loss')\n",
    "ax.axhline(0.955, linestyle='solid', color='#2ecc71', label='4.5 % flux loss')\n",
    "ax.set_title('TESS data')\n",
    "ax.set_ylim(0.8, 1.1)\n",
    "ax.legend(fontsize=12)"
   ]
  },
  {
   "cell_type": "code",
   "execution_count": null,
   "id": "intensive-balance",
   "metadata": {},
   "outputs": [],
   "source": []
  },
  {
   "cell_type": "code",
   "execution_count": null,
   "id": "informational-complement",
   "metadata": {},
   "outputs": [],
   "source": []
  },
  {
   "cell_type": "code",
   "execution_count": null,
   "id": "brown-information",
   "metadata": {},
   "outputs": [],
   "source": [
    "assert len(sr) == 1"
   ]
  },
  {
   "cell_type": "code",
   "execution_count": null,
   "id": "differential-bolivia",
   "metadata": {},
   "outputs": [],
   "source": [
    "lc=sr.download()"
   ]
  },
  {
   "cell_type": "code",
   "execution_count": null,
   "id": "driven-correspondence",
   "metadata": {},
   "outputs": [],
   "source": [
    "lc = lc.remove_outliers(sigma=4,sigma_upper=3).normalize()"
   ]
  },
  {
   "cell_type": "code",
   "execution_count": null,
   "id": "outer-pension",
   "metadata": {},
   "outputs": [],
   "source": [
    "pg = lc.to_periodogram(nterms=5)"
   ]
  },
  {
   "cell_type": "code",
   "execution_count": null,
   "id": "brilliant-interface",
   "metadata": {},
   "outputs": [],
   "source": [
    "ax = pg.plot(view='period', scale='log')\n",
    "ax.axvline(pg.period_at_max_power.value, linestyle='dotted', label=f'{pg.period_at_max_power:0.5f}')\n",
    "ax.axvline(6.70, linestyle='dashed', label='6.7 d (Reinhold & Hekker 2020)', color = 'red')\n",
    "ax.legend(fontsize = 12)"
   ]
  },
  {
   "cell_type": "code",
   "execution_count": null,
   "id": "specialized-youth",
   "metadata": {},
   "outputs": [],
   "source": [
    "pg.period_at_max_power"
   ]
  },
  {
   "cell_type": "code",
   "execution_count": null,
   "id": "rocky-peeing",
   "metadata": {},
   "outputs": [],
   "source": [
    "ax = lc.plot()\n",
    "pg.model(lc.time).plot(ax=ax)\n",
    "pg.model(lc.time, frequency=pg.frequency_at_max_power/2).plot(ax=ax)"
   ]
  }
 ],
 "metadata": {
  "kernelspec": {
   "display_name": "Python 3",
   "language": "python",
   "name": "python3"
  },
  "language_info": {
   "codemirror_mode": {
    "name": "ipython",
    "version": 3
   },
   "file_extension": ".py",
   "mimetype": "text/x-python",
   "name": "python",
   "nbconvert_exporter": "python",
   "pygments_lexer": "ipython3",
   "version": "3.6.10"
  }
 },
 "nbformat": 4,
 "nbformat_minor": 5
}
