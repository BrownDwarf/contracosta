{
 "cells": [
  {
   "cell_type": "markdown",
   "id": "d2908f08",
   "metadata": {},
   "source": [
    "# Spot checking outliers from the Rapid Rotator Sample\n",
    "\n",
    "July 20, 2022  \n",
    "Gully & Ryan H.\n",
    "\n",
    "The goal of this notebook is to identify and understand some of the outliers from the rapid rotator set."
   ]
  },
  {
   "cell_type": "code",
   "execution_count": null,
   "id": "fe3f7462",
   "metadata": {},
   "outputs": [],
   "source": [
    "import pandas as pd\n",
    "import numpy as np\n",
    "import matplotlib.pyplot as plt\n",
    "import seaborn as sns\n",
    "import lightkurve as lk\n",
    "import astropy.units as u\n",
    "\n",
    "sns.set_context('notebook', font_scale=1.5)\n",
    "%matplotlib inline\n",
    "%config InlineBackend.figure_format = 'retina'\n",
    "\n",
    "df = pd.read_csv('../../data/Rapid_Rotator_Sample.csv')"
   ]
  },
  {
   "cell_type": "markdown",
   "id": "1ab8d530",
   "metadata": {},
   "source": [
    "# Copmare Outliers"
   ]
  },
  {
   "cell_type": "markdown",
   "id": "9b195b36",
   "metadata": {},
   "source": [
    "## Outlier 1 - EPIC 202059229"
   ]
  },
  {
   "cell_type": "code",
   "execution_count": null,
   "id": "33726d8d",
   "metadata": {},
   "outputs": [],
   "source": [
    "name = 'EPIC 202059229'\n",
    "\n",
    "tess_lc = lk.search_lightcurve(name, mission='TESS').download()\n",
    "k2_lc = lk.search_lightcurve(name, author='EVEREST').download()\n",
    "\n",
    "tess_lc = tess_lc.remove_nans().remove_outliers()\n",
    "k2_lc = k2_lc.remove_nans().remove_outliers()"
   ]
  },
  {
   "cell_type": "markdown",
   "id": "2dcfe5ba",
   "metadata": {},
   "source": [
    "#### Find Amplitude"
   ]
  },
  {
   "cell_type": "code",
   "execution_count": null,
   "id": "28231c62",
   "metadata": {},
   "outputs": [],
   "source": [
    "ax = tess_lc.plot()\n",
    "\n",
    "ax.axhline(31000, linestyle='dashed', color='red', label='Upper limit')\n",
    "ax.axhline(30350, linestyle='dashed', color='blue', label='Lower Limit')\n",
    "\n",
    "ax.set_title('TESS data')\n",
    "\n",
    "ax.legend(loc='upper right')"
   ]
  },
  {
   "cell_type": "markdown",
   "id": "61c2df15",
   "metadata": {},
   "source": [
    "TESS Amplitude: 650"
   ]
  },
  {
   "cell_type": "code",
   "execution_count": null,
   "id": "570fae71",
   "metadata": {},
   "outputs": [],
   "source": [
    "ax = k2_lc.plot()\n",
    "\n",
    "ax.axhline(0.985e6, linestyle='dashed', color='red', label='Upper limit')\n",
    "ax.axhline(0.95e6, linestyle='dashed', color='blue', label='Lower Limit')\n",
    "\n",
    "ax.set_title('TESS data')\n",
    "\n",
    "ax.legend()"
   ]
  },
  {
   "cell_type": "markdown",
   "id": "3018120b",
   "metadata": {},
   "source": [
    "Kepler Amplitude: 35000"
   ]
  },
  {
   "cell_type": "markdown",
   "id": "81771d69",
   "metadata": {},
   "source": [
    "#### Find Period"
   ]
  },
  {
   "cell_type": "code",
   "execution_count": null,
   "id": "b173050f",
   "metadata": {},
   "outputs": [],
   "source": [
    "scalar = np.percentile(tess_lc.flux, 98)\n",
    "tess_lc = tess_lc/scalar\n",
    "ax = tess_lc.plot()\n",
    "\n",
    "ax.axhline(1.0, linestyle='dashed')\n",
    "ax.axhline(0.98, linestyle='dotted', color='#d35400', label='2 % flux loss')\n",
    "\n",
    "ax.fill_betweenx(ax.get_ylim(), 1475.6, 1478.3, facecolor='green', alpha=0.3, label='One Period')\n",
    "\n",
    "ax.set_title('TESS data')\n",
    "ax.set_ylim(0.95, 1.05)\n",
    "\n",
    "ax.legend()"
   ]
  },
  {
   "cell_type": "markdown",
   "id": "0612dcbe",
   "metadata": {},
   "source": [
    "TESS period is about 2.7 days"
   ]
  },
  {
   "cell_type": "code",
   "execution_count": null,
   "id": "7bea44e6",
   "metadata": {},
   "outputs": [],
   "source": [
    "scalar = np.percentile(k2_lc.flux, 98)\n",
    "k2_lc = k2_lc/scalar\n",
    "ax = k2_lc.plot()\n",
    "\n",
    "ax.axhline(1.0, linestyle='dashed')\n",
    "ax.axhline(0.95, linestyle='dotted', color='#d35400', label='5 % flux loss')\n",
    "\n",
    "ax.fill_betweenx(ax.get_ylim(), 1939, 1944, facecolor='green', alpha=0.3, label='One Period')\n",
    "\n",
    "ax.set_title('EVEREST data')\n",
    "ax.set_ylim(0.9, 1.05)\n",
    "ax.legend()"
   ]
  },
  {
   "cell_type": "markdown",
   "id": "55c9e57b",
   "metadata": {},
   "source": [
    "Kepler period is about 5 days"
   ]
  },
  {
   "cell_type": "markdown",
   "id": "6bb56c9c",
   "metadata": {},
   "source": [
    "#### Compare with computer calculated period"
   ]
  },
  {
   "cell_type": "code",
   "execution_count": null,
   "id": "feb93471",
   "metadata": {},
   "outputs": [],
   "source": [
    "tess_pg.period_at_max_power"
   ]
  },
  {
   "cell_type": "code",
   "execution_count": null,
   "id": "00f0262f",
   "metadata": {},
   "outputs": [],
   "source": [
    "k2_pg.period_at_max_power"
   ]
  },
  {
   "cell_type": "markdown",
   "id": "202f860f",
   "metadata": {},
   "source": [
    "#### Comapre with computer calculated amplitude"
   ]
  },
  {
   "cell_type": "code",
   "execution_count": null,
   "id": "d5574b2a",
   "metadata": {},
   "outputs": [],
   "source": [
    "star = df.loc[df['EPIC'] == 202059229]\n",
    "print(f'TESS Period: {round(star.Period_TESS.values[0], 1)} days')\n",
    "print(f'TESS Amplitude: {round(star.Amplitude_TESS.values[0])}')\n",
    "print(f'Kepler Period: {round(star.Period_K2.values[0], 1)} days')\n",
    "print(f'Kepler Amplitude: {round(star.Amplitude_K2.values[0])}')"
   ]
  },
  {
   "cell_type": "markdown",
   "id": "99ec1d39",
   "metadata": {},
   "source": [
    "## Outlier 2 - EPIC 249148667"
   ]
  },
  {
   "cell_type": "code",
   "execution_count": null,
   "id": "f8368039",
   "metadata": {},
   "outputs": [],
   "source": [
    "name = 'EPIC 249148667'\n",
    "\n",
    "tess_lc = lk.search_lightcurve(name, mission='TESS').download()\n",
    "k2_lc = lk.search_lightcurve(name, author='EVEREST').download()\n",
    "\n",
    "tess_lc = tess_lc.remove_nans().remove_outliers()\n",
    "k2_lc = k2_lc.remove_nans().remove_outliers()"
   ]
  },
  {
   "cell_type": "code",
   "execution_count": null,
   "id": "4c8b5f7a",
   "metadata": {},
   "outputs": [],
   "source": [
    "scalar = np.percentile(tess_lc.flux, 99)\n",
    "tess_lc = tess_lc/scalar\n",
    "ax = tess_lc.plot()\n",
    "\n",
    "ax.axhline(1.0, linestyle='dashed')\n",
    "ax.axhline(0.9964, linestyle='dotted', color='#d35400', label='0.36 % flux loss')\n",
    "\n",
    "ax.fill_betweenx(ax.get_ylim(), 1616.5, 1623.5, facecolor='green', alpha=0.3, label='One Period')\n",
    "\n",
    "ax.set_title('TESS data')\n",
    "\n",
    "ax.legend(loc='upper left')"
   ]
  },
  {
   "cell_type": "markdown",
   "id": "a02cf269",
   "metadata": {},
   "source": [
    "TESS period is about 7 days"
   ]
  },
  {
   "cell_type": "code",
   "execution_count": null,
   "id": "5950c28b",
   "metadata": {},
   "outputs": [],
   "source": [
    "tess_lc.to_periodogram().period_at_max_power"
   ]
  },
  {
   "cell_type": "code",
   "execution_count": null,
   "id": "3728b9e3",
   "metadata": {},
   "outputs": [],
   "source": [
    "scalar = np.percentile(k2_lc.flux, 99)\n",
    "k2_lc = k2_lc/scalar\n",
    "ax = k2_lc.plot()\n",
    "\n",
    "ax.axhline(1.0, linestyle='dashed')\n",
    "ax.axhline(0.9845, linestyle='dotted', color='#d35400', label='1.55 % flux loss')\n",
    "\n",
    "ax.fill_betweenx(ax.get_ylim(), 3174, 3183, facecolor='green', alpha=0.3, label='One Period')\n",
    "\n",
    "ax.set_title('EVEREST data')\n",
    "\n",
    "ax.legend(loc='upper right')"
   ]
  },
  {
   "cell_type": "markdown",
   "id": "1a9a358d",
   "metadata": {},
   "source": [
    "Kepler period is about 9 days"
   ]
  },
  {
   "cell_type": "code",
   "execution_count": null,
   "id": "0ebbeef1",
   "metadata": {},
   "outputs": [],
   "source": [
    "k2_lc.to_periodogram().period_at_max_power"
   ]
  },
  {
   "cell_type": "markdown",
   "id": "455b628e",
   "metadata": {},
   "source": [
    "The problem with the above period is that the outliers (such as the spacecraft moving/repositioning or background noise from other objects) in the graph are causing the lightcurve program to misinterpret the data. If you look below, you will see that when we set the maximum period allowed to be 10; lightcurve accurately calculates the period."
   ]
  },
  {
   "cell_type": "code",
   "execution_count": null,
   "id": "991d18b4",
   "metadata": {},
   "outputs": [],
   "source": [
    "k2_lc.to_periodogram(maximum_period=10).period_at_max_power"
   ]
  },
  {
   "cell_type": "markdown",
   "id": "0b3d0645",
   "metadata": {},
   "source": [
    "## Outlier 3 - EPIC 201264115"
   ]
  },
  {
   "cell_type": "code",
   "execution_count": null,
   "id": "eb2c2f3f",
   "metadata": {},
   "outputs": [],
   "source": [
    "name = 'EPIC 201264115'\n",
    "\n",
    "tess_lc = lk.search_lightcurve(name, mission='TESS').download()\n",
    "k2_lc = lk.search_lightcurve(name, author='EVEREST').download()\n",
    "\n",
    "tess_lc = tess_lc.remove_nans().remove_outliers()\n",
    "k2_lc = k2_lc.remove_nans().remove_outliers()"
   ]
  },
  {
   "cell_type": "code",
   "execution_count": null,
   "id": "3bdee2f6",
   "metadata": {},
   "outputs": [],
   "source": [
    "scalar = np.percentile(tess_lc.flux, 99)\n",
    "tess_lc = tess_lc/scalar\n",
    "ax = tess_lc.plot()\n",
    "\n",
    "ax.axhline(1.0, linestyle='dashed')\n",
    "ax.axhline(0.99, linestyle='dotted', color='#d35400', label='1 % flux loss')\n",
    "\n",
    "ax.fill_betweenx(ax.get_ylim(), 2557.5, 2563, facecolor='green', alpha=0.3, label='One Period')\n",
    "\n",
    "ax.set_title('TESS data')\n",
    "\n",
    "ax.legend(loc='lower right')"
   ]
  },
  {
   "cell_type": "markdown",
   "id": "b6127ae7",
   "metadata": {},
   "source": [
    "TESS period is about 5.5 days"
   ]
  },
  {
   "cell_type": "code",
   "execution_count": null,
   "id": "22d5fc60",
   "metadata": {},
   "outputs": [],
   "source": [
    "tess_lc.to_periodogram().period_at_max_power"
   ]
  },
  {
   "cell_type": "code",
   "execution_count": null,
   "id": "80beedaf",
   "metadata": {},
   "outputs": [],
   "source": [
    "scalar = np.percentile(k2_lc.flux, 99)\n",
    "k2_lc = k2_lc/scalar\n",
    "ax = k2_lc.plot()\n",
    "\n",
    "ax.axhline(1.0, linestyle='dashed')\n",
    "ax.axhline(0.981, linestyle='dotted', color='#d35400', label='1.9 % flux loss')\n",
    "\n",
    "ax.fill_betweenx(ax.get_ylim(), 2014, 2022, facecolor='green', alpha=0.3, label='One Period')\n",
    "\n",
    "ax.set_title('EVEREST data')\n",
    "\n",
    "ax.legend(loc='lower right')"
   ]
  },
  {
   "cell_type": "markdown",
   "id": "d2fb88c3",
   "metadata": {},
   "source": [
    "Kepler period is about 8 days"
   ]
  },
  {
   "cell_type": "code",
   "execution_count": null,
   "id": "263e7910",
   "metadata": {},
   "outputs": [],
   "source": [
    "k2_lc.to_periodogram().period_at_max_power"
   ]
  },
  {
   "cell_type": "markdown",
   "id": "6ea09d1e",
   "metadata": {},
   "source": [
    "The same issue as the previous outlier happens here. If we do not include a maximum period check, lightcurve can sometimes mess up and overestimate the period."
   ]
  },
  {
   "cell_type": "code",
   "execution_count": null,
   "id": "194e8838",
   "metadata": {},
   "outputs": [],
   "source": [
    "k2_lc.to_periodogram(maximum_period=10).period_at_max_power"
   ]
  },
  {
   "cell_type": "markdown",
   "id": "efa46d61",
   "metadata": {},
   "source": [
    "## Outlier 4 - EPIC 201636027"
   ]
  },
  {
   "cell_type": "code",
   "execution_count": null,
   "id": "eab457b2",
   "metadata": {},
   "outputs": [],
   "source": [
    "name = 'EPIC 201636027'\n",
    "\n",
    "tess_lc = lk.search_lightcurve(name, mission='TESS').download()\n",
    "k2_lc = lk.search_lightcurve(name, author='EVEREST').download()\n",
    "\n",
    "tess_lc = tess_lc.remove_nans().remove_outliers()\n",
    "k2_lc = k2_lc.remove_nans().remove_outliers()"
   ]
  },
  {
   "cell_type": "code",
   "execution_count": null,
   "id": "582e770e",
   "metadata": {},
   "outputs": [],
   "source": [
    "scalar = np.percentile(tess_lc.flux, 99)\n",
    "tess_lc = tess_lc/scalar\n",
    "ax = tess_lc.plot()\n",
    "\n",
    "ax.axhline(1.0, linestyle='dashed')\n",
    "ax.axhline(0.985, linestyle='dotted', color='#d35400', label='1.5 % flux loss')\n",
    "\n",
    "# ax.fill_betweenx(ax.get_ylim(), 2530, 2535, facecolor='green', alpha=0.3, label='One Period')\n",
    "ax.fill_betweenx(ax.get_ylim(), 2530.4, 2543.6, facecolor='blue', alpha=0.3, label='One Period')\n",
    "\n",
    "ax.set_title('TESS data')\n",
    "\n",
    "ax.legend(loc='lower right')"
   ]
  },
  {
   "cell_type": "markdown",
   "id": "71ac85b5",
   "metadata": {},
   "source": [
    "TESS period is about 13 days"
   ]
  },
  {
   "cell_type": "code",
   "execution_count": null,
   "id": "b4cce125",
   "metadata": {},
   "outputs": [],
   "source": [
    "tess_lc.to_periodogram().period_at_max_power"
   ]
  },
  {
   "cell_type": "markdown",
   "id": "e343d297",
   "metadata": {},
   "source": [
    "While the graph looks like it have a period of around 5 days, it actually has a period of around 13, as seen below in the periodogram."
   ]
  },
  {
   "cell_type": "code",
   "execution_count": null,
   "id": "d54dbbf7",
   "metadata": {},
   "outputs": [],
   "source": [
    "tess_lc.to_periodogram(maximum_period=20).plot(view='period')"
   ]
  },
  {
   "cell_type": "code",
   "execution_count": null,
   "id": "5e5be3e4",
   "metadata": {},
   "outputs": [],
   "source": [
    "scalar = np.percentile(k2_lc.flux, 99)\n",
    "k2_lc = k2_lc/scalar\n",
    "ax = k2_lc.plot()\n",
    "\n",
    "ax.axhline(1.0, linestyle='dashed')\n",
    "ax.axhline(0.975, linestyle='dotted', color='#d35400', label='2.5 % flux loss')\n",
    "\n",
    "ax.fill_betweenx(ax.get_ylim(), 2021, 2030, facecolor='green', alpha=0.3, label='One Period')\n",
    "\n",
    "ax.set_title('EVEREST data')\n",
    "\n",
    "ax.legend(loc='upper right')"
   ]
  },
  {
   "cell_type": "markdown",
   "id": "cf5827dc",
   "metadata": {},
   "source": [
    "Kepler period is about 9 days"
   ]
  },
  {
   "cell_type": "code",
   "execution_count": null,
   "id": "f9393184",
   "metadata": {},
   "outputs": [],
   "source": [
    "k2_lc.to_periodogram().period_at_max_power"
   ]
  },
  {
   "cell_type": "code",
   "execution_count": null,
   "id": "0f43d317",
   "metadata": {},
   "outputs": [],
   "source": [
    "k2_lc.to_periodogram(maximum_period=20).plot(view='period')"
   ]
  },
  {
   "cell_type": "code",
   "execution_count": null,
   "id": "8241bc02",
   "metadata": {},
   "outputs": [],
   "source": [
    "k2_lc.to_periodogram(maximum_period=20).period_at_max_power"
   ]
  },
  {
   "cell_type": "code",
   "execution_count": null,
   "id": "aaa2d191",
   "metadata": {},
   "outputs": [],
   "source": []
  },
  {
   "cell_type": "markdown",
   "id": "b6400172",
   "metadata": {},
   "source": [
    "# Comapre Harmonious Stars"
   ]
  },
  {
   "cell_type": "markdown",
   "id": "f68e5509",
   "metadata": {},
   "source": [
    "## Example 1 - EPIC 211892395"
   ]
  },
  {
   "cell_type": "code",
   "execution_count": null,
   "id": "ca486d20",
   "metadata": {},
   "outputs": [],
   "source": [
    "name = 'EPIC 211892395'\n",
    "\n",
    "tess_lc = lk.search_lightcurve(name, mission='TESS').download()\n",
    "k2_lc = lk.search_lightcurve(name, author='EVEREST').download()\n",
    "\n",
    "tess_lc = tess_lc.remove_nans().remove_outliers()\n",
    "k2_lc = k2_lc.remove_nans().remove_outliers()"
   ]
  },
  {
   "cell_type": "code",
   "execution_count": null,
   "id": "2045fee5",
   "metadata": {},
   "outputs": [],
   "source": [
    "scalar = np.percentile(tess_lc.flux, 99)\n",
    "tess_lc = tess_lc/scalar\n",
    "ax = tess_lc.plot()\n",
    "\n",
    "ax.axhline(1.0, linestyle='dashed')\n",
    "ax.axhline(0.44, linestyle='dotted', color='#d35400', label='56 % flux loss')\n",
    "\n",
    "ax.fill_betweenx(ax.get_ylim(), 2501.65, 2502.65, facecolor='blue', alpha=0.3, label='One Period')\n",
    "\n",
    "ax.set_xlim(2500, 2510)\n",
    "\n",
    "ax.set_title('TESS data')\n",
    "\n",
    "ax.legend(loc='upper right')"
   ]
  },
  {
   "cell_type": "markdown",
   "id": "2b17df18",
   "metadata": {},
   "source": [
    "TESS period is almost exactly 1 day"
   ]
  },
  {
   "cell_type": "code",
   "execution_count": null,
   "id": "635fd0c8",
   "metadata": {},
   "outputs": [],
   "source": [
    "tess_lc.to_periodogram().period_at_max_power"
   ]
  },
  {
   "cell_type": "code",
   "execution_count": null,
   "id": "8d05b868",
   "metadata": {},
   "outputs": [],
   "source": [
    "scalar = np.percentile(k2_lc.flux, 99)\n",
    "k2_lc = k2_lc/scalar\n",
    "ax = k2_lc.plot()\n",
    "\n",
    "ax.axhline(1.0, linestyle='dashed')\n",
    "ax.axhline(0.65, linestyle='dotted', color='#d35400', label='35 % flux loss')\n",
    "\n",
    "ax.fill_betweenx(ax.get_ylim(), 3277.5, 3278.5, facecolor='green', alpha=0.3, label='One Period')\n",
    "\n",
    "ax.set_xlim(3270, 3290)\n",
    "\n",
    "ax.set_title('EVEREST data')\n",
    "\n",
    "ax.legend(loc='upper right')"
   ]
  },
  {
   "cell_type": "markdown",
   "id": "de703af6",
   "metadata": {},
   "source": [
    "Kepler period is about 9 days"
   ]
  },
  {
   "cell_type": "code",
   "execution_count": null,
   "id": "7a82de25",
   "metadata": {},
   "outputs": [],
   "source": [
    "k2_lc.to_periodogram().period_at_max_power"
   ]
  },
  {
   "cell_type": "markdown",
   "id": "d797d434",
   "metadata": {},
   "source": [
    "The period is harmonious because the lightcurve has clear, well-defined troughs for both human eyes and computers to analyze."
   ]
  },
  {
   "cell_type": "markdown",
   "id": "90018a05",
   "metadata": {},
   "source": [
    "## Example 2 - EPIC 212175096"
   ]
  },
  {
   "cell_type": "code",
   "execution_count": null,
   "id": "51933666",
   "metadata": {},
   "outputs": [],
   "source": [
    "name = 'EPIC 212175096'\n",
    "\n",
    "tess_lc = lk.search_lightcurve(name, mission='TESS').download()\n",
    "k2_lc = lk.search_lightcurve(name, author='EVEREST').download()\n",
    "\n",
    "tess_lc = tess_lc.remove_nans().remove_outliers()\n",
    "k2_lc = k2_lc.remove_nans().remove_outliers()"
   ]
  },
  {
   "cell_type": "code",
   "execution_count": null,
   "id": "41fc5951",
   "metadata": {},
   "outputs": [],
   "source": [
    "scalar = np.percentile(tess_lc.flux, 99)\n",
    "tess_lc = tess_lc/scalar\n",
    "ax = tess_lc.plot()\n",
    "\n",
    "ax.axhline(1.0, linestyle='dashed')\n",
    "ax.axhline(0.945, linestyle='dotted', color='#d35400', label='5.5 % flux loss')\n",
    "\n",
    "ax.fill_betweenx(ax.get_ylim(), 1875, 1877, facecolor='blue', alpha=0.3, label='One Period')\n",
    "\n",
    "ax.set_title('TESS data')\n",
    "\n",
    "ax.legend(loc='upper right')"
   ]
  },
  {
   "cell_type": "markdown",
   "id": "769e57a8",
   "metadata": {},
   "source": [
    "TESS period is almost exactly 2 days"
   ]
  },
  {
   "cell_type": "code",
   "execution_count": null,
   "id": "93cfd919",
   "metadata": {},
   "outputs": [],
   "source": [
    "tess_lc.to_periodogram().period_at_max_power"
   ]
  },
  {
   "cell_type": "code",
   "execution_count": null,
   "id": "efbf5ad6",
   "metadata": {},
   "outputs": [],
   "source": [
    "scalar = np.percentile(k2_lc.flux, 99)\n",
    "k2_lc = k2_lc/scalar\n",
    "ax = k2_lc.plot()\n",
    "\n",
    "ax.axhline(1.0, linestyle='dashed')\n",
    "ax.axhline(0.89, linestyle='dotted', color='#d35400', label='11 % flux loss')\n",
    "\n",
    "ax.fill_betweenx(ax.get_ylim(), 3320.2, 3322.2, facecolor='green', alpha=0.3, label='One Period')\n",
    "\n",
    "# ax.set_xlim(3310, 3330)\n",
    "\n",
    "ax.set_title('EVEREST data')\n",
    "\n",
    "ax.legend(loc='upper right')"
   ]
  },
  {
   "cell_type": "markdown",
   "id": "39db9e29",
   "metadata": {},
   "source": [
    "Kepler period is about 2 days"
   ]
  },
  {
   "cell_type": "code",
   "execution_count": null,
   "id": "dd3e7741",
   "metadata": {},
   "outputs": [],
   "source": [
    "k2_lc.to_periodogram().period_at_max_power"
   ]
  },
  {
   "cell_type": "markdown",
   "id": "d6b5b88c",
   "metadata": {},
   "source": [
    "Similar to the previous example, this star also has a clear, well-defined lightcurve. This makes it easy to find its period."
   ]
  },
  {
   "cell_type": "code",
   "execution_count": null,
   "id": "49b0e02a",
   "metadata": {},
   "outputs": [],
   "source": [
    "df.loc[df['EPIC'] == 212175096]"
   ]
  },
  {
   "cell_type": "code",
   "execution_count": null,
   "id": "246faed3",
   "metadata": {},
   "outputs": [],
   "source": []
  }
 ],
 "metadata": {
  "kernelspec": {
   "display_name": "Python 3",
   "language": "python",
   "name": "python3"
  },
  "language_info": {
   "codemirror_mode": {
    "name": "ipython",
    "version": 3
   },
   "file_extension": ".py",
   "mimetype": "text/x-python",
   "name": "python",
   "nbconvert_exporter": "python",
   "pygments_lexer": "ipython3",
   "version": "3.8.13"
  },
  "vscode": {
   "interpreter": {
    "hash": "b35b03c3ac9cbf5001493e5ff23c42dd8f9188277db64dd08850bcd62e251f33"
   }
  }
 },
 "nbformat": 4,
 "nbformat_minor": 5
}
