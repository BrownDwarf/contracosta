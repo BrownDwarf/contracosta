{
 "cells": [
  {
   "cell_type": "markdown",
   "id": "d2908f08",
   "metadata": {},
   "source": [
    "# Spot checking outliers from the Rapid Rotator Sample\n",
    "\n",
    "July 19, 2022  \n",
    "Gully & Ryan H.\n",
    "\n",
    "The goal of this notebook is to identify and understand some of the outliers from the rapid rotator set."
   ]
  },
  {
   "cell_type": "code",
   "execution_count": null,
   "id": "fe3f7462",
   "metadata": {},
   "outputs": [],
   "source": [
    "import pandas as pd\n",
    "import numpy as np\n",
    "import matplotlib.pyplot as plt\n",
    "import seaborn as sns\n",
    "import lightkurve as lk\n",
    "import astropy.units as u\n",
    "\n",
    "sns.set_context('notebook', font_scale=1.5)\n",
    "%matplotlib inline\n",
    "%config InlineBackend.figure_format = 'retina'"
   ]
  },
  {
   "cell_type": "markdown",
   "id": "e2b3a527",
   "metadata": {},
   "source": [
    "## Compare harmonous outlier"
   ]
  },
  {
   "cell_type": "code",
   "execution_count": null,
   "id": "33726d8d",
   "metadata": {},
   "outputs": [],
   "source": [
    "name = 'EPIC 202059229'\n",
    "\n",
    "tess_lc = lk.search_lightcurve(name, mission='TESS').download()\n",
    "k2_lc = lk.search_lightcurve(name, author='EVEREST').download()\n",
    "\n",
    "tess_lc = tess_lc.remove_nans().remove_outliers()\n",
    "k2_lc = k2_lc.remove_nans().remove_outliers()"
   ]
  },
  {
   "cell_type": "code",
   "execution_count": null,
   "id": "b173050f",
   "metadata": {},
   "outputs": [],
   "source": [
    "scalar = np.percentile(tess_lc.flux, 98)\n",
    "tess_lc = tess_lc/scalar\n",
    "ax = tess_lc.plot()\n",
    "\n",
    "ax.axhline(1.0, linestyle='dashed')\n",
    "ax.axhline(0.98, linestyle='dotted', color='#d35400', label='2 % flux loss')\n",
    "\n",
    "ax.fill_betweenx(ax.get_ylim(), 1475.6, 1478.3, facecolor='green', alpha=0.3, label='One Period')\n",
    "\n",
    "ax.set_title('TESS data')\n",
    "ax.set_ylim(0.95, 1.05)\n",
    "\n",
    "ax.legend()"
   ]
  },
  {
   "cell_type": "markdown",
   "id": "0612dcbe",
   "metadata": {},
   "source": [
    "Tess period is about 2.7 days"
   ]
  },
  {
   "cell_type": "code",
   "execution_count": null,
   "id": "7bea44e6",
   "metadata": {},
   "outputs": [],
   "source": [
    "scalar = np.percentile(k2_lc.flux, 98)\n",
    "k2_lc = k2_lc/scalar\n",
    "ax = k2_lc.plot()\n",
    "\n",
    "ax.axhline(1.0, linestyle='dashed')\n",
    "ax.axhline(0.95, linestyle='dotted', color='#d35400', label='5 % flux loss')\n",
    "\n",
    "ax.fill_betweenx(ax.get_ylim(), 1939, 1944, facecolor='green', alpha=0.3, label='One Period')\n",
    "\n",
    "ax.set_title('EVEREST data')\n",
    "ax.set_ylim(0.9, 1.05)\n",
    "ax.legend()"
   ]
  },
  {
   "cell_type": "markdown",
   "id": "55c9e57b",
   "metadata": {},
   "source": [
    "Kepler period is about 5 days"
   ]
  },
  {
   "cell_type": "markdown",
   "id": "6bb56c9c",
   "metadata": {},
   "source": [
    "#### Compare with computer prediction"
   ]
  },
  {
   "cell_type": "code",
   "execution_count": null,
   "id": "44d15cca",
   "metadata": {},
   "outputs": [],
   "source": [
    "tess_pg = tess_lc.to_periodogram(maximum_period=10)\n",
    "tess_pg.plot(view='period')"
   ]
  },
  {
   "cell_type": "code",
   "execution_count": null,
   "id": "feb93471",
   "metadata": {},
   "outputs": [],
   "source": [
    "tess_pg.period_at_max_power"
   ]
  },
  {
   "cell_type": "code",
   "execution_count": null,
   "id": "2576b924",
   "metadata": {},
   "outputs": [],
   "source": [
    "k2_pg = k2_lc.to_periodogram(minimum_period=.1, maximum_period=10)\n",
    "ax = k2_pg.plot(view='period')"
   ]
  },
  {
   "cell_type": "code",
   "execution_count": null,
   "id": "00f0262f",
   "metadata": {},
   "outputs": [],
   "source": [
    "k2_pg.period_at_max_power"
   ]
  },
  {
   "cell_type": "markdown",
   "id": "99ec1d39",
   "metadata": {},
   "source": [
    "## Compare Outlier"
   ]
  },
  {
   "cell_type": "code",
   "execution_count": null,
   "id": "f8368039",
   "metadata": {},
   "outputs": [],
   "source": [
    "name = 'EPIC 249148667'\n",
    "\n",
    "tess_lc = lk.search_lightcurve(name, mission='TESS').download()\n",
    "k2_lc = lk.search_lightcurve(name, author='EVEREST').download()\n",
    "\n",
    "tess_lc = tess_lc.remove_nans().remove_outliers()\n",
    "k2_lc = k2_lc.remove_nans().remove_outliers()"
   ]
  },
  {
   "cell_type": "code",
   "execution_count": null,
   "id": "4c8b5f7a",
   "metadata": {},
   "outputs": [],
   "source": [
    "scalar = np.percentile(tess_lc.flux, 99)\n",
    "tess_lc = tess_lc/scalar\n",
    "ax = tess_lc.plot()\n",
    "\n",
    "ax.axhline(1.0, linestyle='dashed')\n",
    "ax.axhline(0.9964, linestyle='dotted', color='#d35400', label='0.36 % flux loss')\n",
    "\n",
    "ax.fill_betweenx(ax.get_ylim(), 1616.5, 1623.5, facecolor='green', alpha=0.3, label='One Period')\n",
    "\n",
    "ax.set_title('TESS data')\n",
    "\n",
    "ax.legend(loc='upper left')"
   ]
  },
  {
   "cell_type": "markdown",
   "id": "a02cf269",
   "metadata": {},
   "source": [
    "TESS period is about 7 days"
   ]
  },
  {
   "cell_type": "code",
   "execution_count": null,
   "id": "5950c28b",
   "metadata": {},
   "outputs": [],
   "source": [
    "tess_lc.to_periodogram().period_at_max_power"
   ]
  },
  {
   "cell_type": "code",
   "execution_count": null,
   "id": "3728b9e3",
   "metadata": {},
   "outputs": [],
   "source": [
    "scalar = np.percentile(k2_lc.flux, 99)\n",
    "k2_lc = k2_lc/scalar\n",
    "ax = k2_lc.plot()\n",
    "\n",
    "ax.axhline(1.0, linestyle='dashed')\n",
    "ax.axhline(0.9845, linestyle='dotted', color='#d35400', label='1.55 % flux loss')\n",
    "\n",
    "ax.fill_betweenx(ax.get_ylim(), 3174, 3183, facecolor='green', alpha=0.3, label='One Period')\n",
    "\n",
    "ax.set_title('EVEREST data')\n",
    "\n",
    "ax.legend(loc='upper right')"
   ]
  },
  {
   "cell_type": "markdown",
   "id": "1a9a358d",
   "metadata": {},
   "source": [
    "Kepler period is about 9 days"
   ]
  },
  {
   "cell_type": "code",
   "execution_count": null,
   "id": "0ebbeef1",
   "metadata": {},
   "outputs": [],
   "source": [
    "k2_lc.to_periodogram().period_at_max_power"
   ]
  },
  {
   "cell_type": "markdown",
   "id": "455b628e",
   "metadata": {},
   "source": [
    "The problem with the above period is that the outliers (such as the spacecraft moving/repositioning or background noise from other objects) in the graph are causing the lightcurve program to misinterpret the data. If you look below, you will see that when we set the maximum period allowed to be 10; lightcurve accurately calculates the period."
   ]
  },
  {
   "cell_type": "code",
   "execution_count": null,
   "id": "991d18b4",
   "metadata": {},
   "outputs": [],
   "source": [
    "k2_lc.to_periodogram(maximum_period=10).period_at_max_power"
   ]
  },
  {
   "cell_type": "markdown",
   "id": "0b3d0645",
   "metadata": {},
   "source": [
    "## Compare Outlier"
   ]
  },
  {
   "cell_type": "code",
   "execution_count": null,
   "id": "eb2c2f3f",
   "metadata": {},
   "outputs": [],
   "source": [
    "name = 'EPIC 201264115'\n",
    "\n",
    "tess_lc = lk.search_lightcurve(name, mission='TESS').download()\n",
    "k2_lc = lk.search_lightcurve(name, author='EVEREST').download()\n",
    "\n",
    "tess_lc = tess_lc.remove_nans().remove_outliers()\n",
    "k2_lc = k2_lc.remove_nans().remove_outliers()"
   ]
  },
  {
   "cell_type": "code",
   "execution_count": null,
   "id": "3bdee2f6",
   "metadata": {},
   "outputs": [],
   "source": [
    "scalar = np.percentile(tess_lc.flux, 99)\n",
    "tess_lc = tess_lc/scalar\n",
    "ax = tess_lc.plot()\n",
    "\n",
    "ax.axhline(1.0, linestyle='dashed')\n",
    "ax.axhline(0.99, linestyle='dotted', color='#d35400', label='1 % flux loss')\n",
    "\n",
    "ax.fill_betweenx(ax.get_ylim(), 2557.5, 2563, facecolor='green', alpha=0.3, label='One Period')\n",
    "\n",
    "ax.set_title('TESS data')\n",
    "\n",
    "ax.legend(loc='lower right')"
   ]
  },
  {
   "cell_type": "markdown",
   "id": "b6127ae7",
   "metadata": {},
   "source": [
    "TESS period is about 5.5 days"
   ]
  },
  {
   "cell_type": "code",
   "execution_count": null,
   "id": "22d5fc60",
   "metadata": {},
   "outputs": [],
   "source": [
    "tess_lc.to_periodogram().period_at_max_power"
   ]
  },
  {
   "cell_type": "code",
   "execution_count": null,
   "id": "80beedaf",
   "metadata": {},
   "outputs": [],
   "source": [
    "scalar = np.percentile(k2_lc.flux, 99)\n",
    "k2_lc = k2_lc/scalar\n",
    "ax = k2_lc.plot()\n",
    "\n",
    "ax.axhline(1.0, linestyle='dashed')\n",
    "ax.axhline(0.981, linestyle='dotted', color='#d35400', label='1.9 % flux loss')\n",
    "\n",
    "ax.fill_betweenx(ax.get_ylim(), 2014, 2022, facecolor='green', alpha=0.3, label='One Period')\n",
    "\n",
    "ax.set_title('EVEREST data')\n",
    "\n",
    "ax.legend(loc='lower right')"
   ]
  },
  {
   "cell_type": "markdown",
   "id": "d2fb88c3",
   "metadata": {},
   "source": [
    "Kepler period is about 8 days"
   ]
  },
  {
   "cell_type": "code",
   "execution_count": null,
   "id": "263e7910",
   "metadata": {},
   "outputs": [],
   "source": [
    "k2_lc.to_periodogram().period_at_max_power"
   ]
  },
  {
   "cell_type": "markdown",
   "id": "6ea09d1e",
   "metadata": {},
   "source": [
    "The same issue as the previous outlier happens here. If we do not include a maximum period check, lightcurve can sometimes mess up and overestimate the period."
   ]
  },
  {
   "cell_type": "code",
   "execution_count": null,
   "id": "194e8838",
   "metadata": {},
   "outputs": [],
   "source": [
    "k2_lc.to_periodogram(maximum_period=10).period_at_max_power"
   ]
  },
  {
   "cell_type": "markdown",
   "id": "efa46d61",
   "metadata": {},
   "source": [
    "## Compare Outlier"
   ]
  },
  {
   "cell_type": "code",
   "execution_count": null,
   "id": "eab457b2",
   "metadata": {},
   "outputs": [],
   "source": [
    "name = 'EPIC 201636027'\n",
    "\n",
    "tess_lc = lk.search_lightcurve(name, mission='TESS').download()\n",
    "k2_lc = lk.search_lightcurve(name, author='EVEREST').download()\n",
    "\n",
    "tess_lc = tess_lc.remove_nans().remove_outliers()\n",
    "k2_lc = k2_lc.remove_nans().remove_outliers()"
   ]
  },
  {
   "cell_type": "code",
   "execution_count": null,
   "id": "582e770e",
   "metadata": {},
   "outputs": [],
   "source": [
    "scalar = np.percentile(tess_lc.flux, 99)\n",
    "tess_lc = tess_lc/scalar\n",
    "ax = tess_lc.plot()\n",
    "\n",
    "ax.axhline(1.0, linestyle='dashed')\n",
    "ax.axhline(0.985, linestyle='dotted', color='#d35400', label='1.5 % flux loss')\n",
    "\n",
    "# ax.fill_betweenx(ax.get_ylim(), 2530, 2535, facecolor='green', alpha=0.3, label='One Period')\n",
    "ax.fill_betweenx(ax.get_ylim(), 2530.4, 2543.6, facecolor='blue', alpha=0.3, label='One Period')\n",
    "\n",
    "ax.set_title('TESS data')\n",
    "\n",
    "ax.legend(loc='lower right')"
   ]
  },
  {
   "cell_type": "markdown",
   "id": "71ac85b5",
   "metadata": {},
   "source": [
    "TESS period is about 13 days"
   ]
  },
  {
   "cell_type": "code",
   "execution_count": null,
   "id": "b4cce125",
   "metadata": {},
   "outputs": [],
   "source": [
    "tess_lc.to_periodogram().period_at_max_power"
   ]
  },
  {
   "cell_type": "markdown",
   "id": "e343d297",
   "metadata": {},
   "source": [
    "While the graph looks like it have a period of around 5 days, it actually has a period of around 13, as seen below in the periodogram."
   ]
  },
  {
   "cell_type": "code",
   "execution_count": null,
   "id": "d54dbbf7",
   "metadata": {},
   "outputs": [],
   "source": [
    "tess_lc.to_periodogram(maximum_period=20).plot(view='period')"
   ]
  },
  {
   "cell_type": "code",
   "execution_count": null,
   "id": "5e5be3e4",
   "metadata": {},
   "outputs": [],
   "source": [
    "scalar = np.percentile(k2_lc.flux, 99)\n",
    "k2_lc = k2_lc/scalar\n",
    "ax = k2_lc.plot()\n",
    "\n",
    "ax.axhline(1.0, linestyle='dashed')\n",
    "ax.axhline(0.975, linestyle='dotted', color='#d35400', label='2.5 % flux loss')\n",
    "\n",
    "ax.fill_betweenx(ax.get_ylim(), 2021, 2030, facecolor='green', alpha=0.3, label='One Period')\n",
    "\n",
    "ax.set_title('EVEREST data')\n",
    "\n",
    "ax.legend(loc='upper right')"
   ]
  },
  {
   "cell_type": "markdown",
   "id": "cf5827dc",
   "metadata": {},
   "source": [
    "Kepler period is about 9 days"
   ]
  },
  {
   "cell_type": "code",
   "execution_count": null,
   "id": "f9393184",
   "metadata": {},
   "outputs": [],
   "source": [
    "k2_lc.to_periodogram().period_at_max_power"
   ]
  },
  {
   "cell_type": "code",
   "execution_count": null,
   "id": "0f43d317",
   "metadata": {},
   "outputs": [],
   "source": [
    "k2_lc.to_periodogram(maximum_period=20).plot(view='period')"
   ]
  },
  {
   "cell_type": "code",
   "execution_count": null,
   "id": "8241bc02",
   "metadata": {},
   "outputs": [],
   "source": [
    "k2_lc.to_periodogram(maximum_period=20).period_at_max_power"
   ]
  }
 ],
 "metadata": {
  "kernelspec": {
   "display_name": "Python 3",
   "language": "python",
   "name": "python3"
  },
  "language_info": {
   "codemirror_mode": {
    "name": "ipython",
    "version": 3
   },
   "file_extension": ".py",
   "mimetype": "text/x-python",
   "name": "python",
   "nbconvert_exporter": "python",
   "pygments_lexer": "ipython3",
   "version": "3.8.13"
  }
 },
 "nbformat": 4,
 "nbformat_minor": 5
}
