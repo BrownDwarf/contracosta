{
 "cells": [
  {
   "cell_type": "markdown",
   "id": "fccd7c50",
   "metadata": {},
   "source": [
    "# Testing out Multithreading and Multiprocessing in Python"
   ]
  },
  {
   "cell_type": "code",
   "execution_count": null,
   "id": "976b5a51",
   "metadata": {},
   "outputs": [],
   "source": [
    "import pandas as pd\n",
    "import numpy as np\n",
    "import matplotlib.pyplot as plt\n",
    "import seaborn as sns\n",
    "import lightkurve as lk\n",
    "from sklearn.utils import resample\n",
    "from tqdm import tqdm\n",
    "import time\n",
    "import concurrent.futures"
   ]
  },
  {
   "cell_type": "code",
   "execution_count": null,
   "id": "c52becf0",
   "metadata": {},
   "outputs": [],
   "source": [
    "names = ['EPIC','Campaign','Teff','log g','Prot','ΔProt','hpeak','Rvar','Kp','MG']"
   ]
  },
  {
   "cell_type": "code",
   "execution_count": null,
   "id": "143038b5",
   "metadata": {},
   "outputs": [],
   "source": [
    "df = pd.read_csv('../../data/Reinhold_Hekker2020/table2.dat', delim_whitespace=True, names=names, na_values='---')"
   ]
  },
  {
   "cell_type": "code",
   "execution_count": null,
   "id": "bd3b35d7",
   "metadata": {},
   "outputs": [],
   "source": [
    "criterion1 = (df.Prot > 1) & (df.Prot < 10)\n",
    "criterion2 = (df.Rvar > 0.5) & (df.Rvar < 20)\n",
    "criterion3 = (df.Teff > 4000) & (df.Teff < 4500)\n",
    "criteria = criterion1 & criterion2 & criterion3"
   ]
  },
  {
   "cell_type": "code",
   "execution_count": null,
   "id": "b77253b1",
   "metadata": {},
   "outputs": [],
   "source": [
    "df_subset = df[criteria].reset_index(drop=True)"
   ]
  },
  {
   "cell_type": "code",
   "execution_count": null,
   "id": "65148d18",
   "metadata": {},
   "outputs": [],
   "source": [
    "df_subset['N_EVEREST'] = np.NaN\n",
    "df_subset['N_TESS_SPOC'] = np.NaN\n",
    "df_subset['Period_TESS'] = 0\n",
    "df_subset['Amplitude_TESS'] = 0\n",
    "df_subset['Period_K2'] = 0\n",
    "df_subset['Amplitude_K2'] = 0\n",
    "df_subset['Sector'] = np.NaN"
   ]
  },
  {
   "cell_type": "code",
   "execution_count": null,
   "id": "fbc23c7d",
   "metadata": {},
   "outputs": [],
   "source": [
    "df_tiny = df_subset.head(15)"
   ]
  },
  {
   "cell_type": "code",
   "execution_count": null,
   "id": "e16391b9",
   "metadata": {},
   "outputs": [],
   "source": [
    "df_subset = df_tiny"
   ]
  },
  {
   "cell_type": "code",
   "execution_count": null,
   "id": "af04f730",
   "metadata": {},
   "outputs": [],
   "source": [
    "n_sources = len(df_subset)"
   ]
  },
  {
   "cell_type": "code",
   "execution_count": null,
   "id": "5278d846",
   "metadata": {},
   "outputs": [],
   "source": [
    "def add_data(data):\n",
    "    # data = [mission, index, search result]\n",
    "    mission, idx, sr = data\n",
    "    def add_data_helper(mission, idx, sr, num):\n",
    "        lc = sr[num].download()\n",
    "        # remove NaNs and normalize the data\n",
    "        lc = lc.remove_nans().remove_outliers()#.normalize()\n",
    "        # find the amplitude percentage\n",
    "        vector = lc.flux.value\n",
    "        lo, hi = np.percentile(vector, (5, 95))\n",
    "        peak_to_valley = hi-lo\n",
    "        # add the data to the table\n",
    "        df_subset.loc[idx, f'Amplitude_{mission}'] = peak_to_valley\n",
    "        # change the lightcurve into a periodogram and find its period\n",
    "        period = float(lc.to_periodogram().period_at_max_power.to_value())\n",
    "        # add the period to the data table\n",
    "        df_subset.loc[idx, f'Period_{mission}'] = period\n",
    "        if mission == 'TESS':\n",
    "            # find the sector number and add it to the data table\n",
    "            df_subset.loc[idx, 'Sector'] = lc.sector\n",
    "\n",
    "    if len(sr) > 0:\n",
    "        try:\n",
    "            add_data_helper(mission, idx, sr, 0)\n",
    "        except:\n",
    "            add_data_helper(mission, idx, sr, 1)\n",
    "        finally:\n",
    "            return"
   ]
  },
  {
   "cell_type": "code",
   "execution_count": null,
   "id": "674ba3ca",
   "metadata": {},
   "outputs": [],
   "source": [
    "def download(data):\n",
    "    name, index, mission = data\n",
    "    if mission == 0:\n",
    "        sr = lk.search_lightcurve(name, mission='TESS')\n",
    "        df_subset.loc[index, 'N_TESS_SPOC'] = len(sr)\n",
    "    elif mission == 1:\n",
    "        sr = lk.search_lightcurve(name, author='EVEREST')\n",
    "        df_subset.loc[index, 'N_EVEREST'] = len(sr)\n",
    "    return sr"
   ]
  },
  {
   "cell_type": "code",
   "execution_count": null,
   "id": "f7fba1df",
   "metadata": {},
   "outputs": [],
   "source": [
    "def main():\n",
    "    start = time.time()\n",
    "\n",
    "    TESS_download = []\n",
    "    K2_download = []\n",
    "    for i in range(n_sources):\n",
    "        # find the name of the star\n",
    "        name = 'EPIC ' + df_subset.iloc[i].EPIC.astype(int).astype(str)\n",
    "        TESS_download.append([name, i, 0])\n",
    "        K2_download.append([name, i, 1])\n",
    "\n",
    "\n",
    "    TESS_data = []\n",
    "    K2_data = []\n",
    "    with concurrent.futures.ThreadPoolExecutor() as executor:\n",
    "\n",
    "        TESS_sr = executor.map(download, TESS_download)\n",
    "        K2_sr = executor.map(download, K2_download)\n",
    "\n",
    "        for result in TESS_sr:\n",
    "            TESS_data.append(['TESS', i, result])\n",
    "#         for i in range(n_sources):\n",
    "#             TESS_data.append(['TESS', i, TESS_sr[i]])\n",
    "#             K2_data.append(['K2', i, K2_sr[i]])\n",
    "\n",
    "\n",
    "#     with concurrent.futures.ThreadPoolExecutor() as executor:\n",
    "\n",
    "#         executor.map(add_data, TESS_data)\n",
    "#         executor.map(add_data, K2_data)\n",
    "    # for i in range(n_sources):\n",
    "    #     add_data(TESS_data[i])\n",
    "    #     add_data(K2_data[i])\n",
    "    \n",
    "    end = time.time()\n",
    "    print(end-start)"
   ]
  },
  {
   "cell_type": "code",
   "execution_count": null,
   "id": "bfedbb44",
   "metadata": {},
   "outputs": [],
   "source": [
    "if __name__ == '__main__':\n",
    "    main()"
   ]
  },
  {
   "cell_type": "code",
   "execution_count": null,
   "id": "1763c8bf",
   "metadata": {},
   "outputs": [],
   "source": [
    "df_subset"
   ]
  },
  {
   "cell_type": "markdown",
   "id": "af8cec42",
   "metadata": {},
   "source": [
    "df_subset.to_csv('pathfinder_sample.csv', index=False)"
   ]
  }
 ],
 "metadata": {
  "kernelspec": {
   "display_name": "Python 3 (ipykernel)",
   "language": "python",
   "name": "python3"
  },
  "language_info": {
   "codemirror_mode": {
    "name": "ipython",
    "version": 3
   },
   "file_extension": ".py",
   "mimetype": "text/x-python",
   "name": "python",
   "nbconvert_exporter": "python",
   "pygments_lexer": "ipython3",
   "version": "3.9.12"
  }
 },
 "nbformat": 4,
 "nbformat_minor": 5
}
