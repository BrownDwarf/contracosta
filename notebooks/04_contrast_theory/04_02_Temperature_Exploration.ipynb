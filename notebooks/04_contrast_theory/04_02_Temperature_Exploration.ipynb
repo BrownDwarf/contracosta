{
 "cells": [
  {
   "cell_type": "markdown",
   "id": "4f8f6a88",
   "metadata": {},
   "source": [
    "# Temperature Exploration\n",
    "\n",
    "August 2, 2022  \n",
    "Gully & Ryan H.\n",
    "\n",
    "Using Gollum to explore different stars and their temperatures."
   ]
  },
  {
   "cell_type": "code",
   "execution_count": null,
   "id": "06e72310",
   "metadata": {},
   "outputs": [],
   "source": [
    "from gollum.phoenix import PHOENIXGrid, PHOENIXSpectrum\n",
    "from specutils import Spectrum1D\n",
    "import pandas as pd\n",
    "import astropy.units as u\n",
    "import numpy as np\n",
    "import matplotlib.pyplot as plt\n",
    "from mpl_toolkits.axes_grid1 import make_axes_locatable"
   ]
  },
  {
   "cell_type": "code",
   "execution_count": null,
   "id": "2db8d8c3",
   "metadata": {},
   "outputs": [],
   "source": [
    "path='..\\\\..\\\\..\\\\data\\\\phoenix.astro.physik.uni-goettingen.de\\\\HiResFITS\\\\PHOENIX-ACES-AGSS-COND-2011\\\\'"
   ]
  },
  {
   "cell_type": "code",
   "execution_count": null,
   "id": "3044f362",
   "metadata": {},
   "outputs": [],
   "source": [
    "df='../../data/Rapid_Rotator_Sample.csv'"
   ]
  },
  {
   "cell_type": "code",
   "execution_count": null,
   "id": "ba8854ad",
   "metadata": {
    "scrolled": true
   },
   "outputs": [],
   "source": [
    "grid = PHOENIXGrid(teff_range=(5000, 7000), logg_range=(2, 5), metallicity_range=(-0.5, 0), wl_lo= 4000, wl_hi= 12000,\n",
    "                   path=path)"
   ]
  },
  {
   "cell_type": "code",
   "execution_count": null,
   "id": "fdfe3116",
   "metadata": {},
   "outputs": [],
   "source": [
    "grid.truncate"
   ]
  },
  {
   "cell_type": "markdown",
   "id": "b30abca2",
   "metadata": {},
   "source": [
    "### Compute Starspot Contrast\n",
    "\n",
    "Example from a sunspot"
   ]
  },
  {
   "cell_type": "markdown",
   "id": "ff5dd190",
   "metadata": {},
   "source": [
    "#### Kepler"
   ]
  },
  {
   "cell_type": "code",
   "execution_count": null,
   "id": "2a1a06ae",
   "metadata": {},
   "outputs": [],
   "source": [
    "spec1 = PHOENIXSpectrum(teff=7000, logg=4.5, metallicity=0, wl_lo=5000, wl_hi=7000, path=path).instrumental_broaden(resolving_power=1000)"
   ]
  },
  {
   "cell_type": "code",
   "execution_count": null,
   "id": "200330da",
   "metadata": {},
   "outputs": [],
   "source": [
    "spec2 = PHOENIXSpectrum(teff=4000, logg=4.5, metallicity=0, wl_lo=5000, wl_hi=7000, path=path).instrumental_broaden(resolving_power=1000)"
   ]
  },
  {
   "cell_type": "code",
   "execution_count": null,
   "id": "04fcc4bf",
   "metadata": {},
   "outputs": [],
   "source": [
    "ax = spec1.plot()\n",
    "ax.set_ylim(0, 1.1e16)\n",
    "spec2.plot(ax=ax)"
   ]
  },
  {
   "cell_type": "code",
   "execution_count": null,
   "id": "1eaa7444",
   "metadata": {},
   "outputs": [],
   "source": [
    "spec1.flux"
   ]
  },
  {
   "cell_type": "code",
   "execution_count": null,
   "id": "247b7662",
   "metadata": {},
   "outputs": [],
   "source": [
    "ratio = spec2/spec1"
   ]
  },
  {
   "cell_type": "code",
   "execution_count": null,
   "id": "d6ef6efc",
   "metadata": {},
   "outputs": [],
   "source": [
    "ax = ratio.plot()\n",
    "ax.set_ylim(0, 1)"
   ]
  },
  {
   "cell_type": "code",
   "execution_count": null,
   "id": "78856e4d",
   "metadata": {},
   "outputs": [],
   "source": [
    "ratio.flux.mean()"
   ]
  },
  {
   "cell_type": "markdown",
   "id": "5052b662",
   "metadata": {},
   "source": [
    "#### TESS"
   ]
  },
  {
   "cell_type": "code",
   "execution_count": null,
   "id": "a48b3fa4",
   "metadata": {},
   "outputs": [],
   "source": [
    "spec1 = PHOENIXSpectrum(teff=7000, logg=4.5, metallicity=0, wl_lo=8000, wl_hi=10000, path=path).instrumental_broaden(resolving_power=1000)"
   ]
  },
  {
   "cell_type": "code",
   "execution_count": null,
   "id": "22c6f22f",
   "metadata": {},
   "outputs": [],
   "source": [
    "spec2 = PHOENIXSpectrum(teff=5000, logg=4.5, metallicity=0, wl_lo=8000, wl_hi=10000, path=path).instrumental_broaden(resolving_power=1000)"
   ]
  },
  {
   "cell_type": "code",
   "execution_count": null,
   "id": "24adefda",
   "metadata": {},
   "outputs": [],
   "source": [
    "ax = spec1.plot()\n",
    "ax.set_ylim(0, 1.1e16)\n",
    "spec2.plot(ax=ax)"
   ]
  },
  {
   "cell_type": "code",
   "execution_count": null,
   "id": "0297ff21",
   "metadata": {},
   "outputs": [],
   "source": [
    "spec1.flux"
   ]
  },
  {
   "cell_type": "code",
   "execution_count": null,
   "id": "61b7fb49",
   "metadata": {},
   "outputs": [],
   "source": [
    "ratio = spec2/spec1"
   ]
  },
  {
   "cell_type": "code",
   "execution_count": null,
   "id": "84914479",
   "metadata": {},
   "outputs": [],
   "source": [
    "ax = ratio.plot()\n",
    "ax.set_ylim(0, 1)"
   ]
  },
  {
   "cell_type": "code",
   "execution_count": null,
   "id": "1e0cecb2",
   "metadata": {},
   "outputs": [],
   "source": [
    "ratio.flux.mean()"
   ]
  },
  {
   "cell_type": "code",
   "execution_count": null,
   "id": "02ecb87d",
   "metadata": {},
   "outputs": [],
   "source": []
  },
  {
   "cell_type": "code",
   "execution_count": null,
   "id": "8c2c1547",
   "metadata": {},
   "outputs": [],
   "source": [
    "# grid.show_dashboard()"
   ]
  },
  {
   "cell_type": "code",
   "execution_count": null,
   "id": "399df753",
   "metadata": {},
   "outputs": [],
   "source": [
    "spec = grid[43]"
   ]
  },
  {
   "cell_type": "code",
   "execution_count": null,
   "id": "5ecb7a75",
   "metadata": {},
   "outputs": [],
   "source": [
    "spec.instrumental_broaden(resolving_power=1000).normalize().plot(ylo=0, yhi=3)"
   ]
  },
  {
   "cell_type": "code",
   "execution_count": null,
   "id": "06a1df29",
   "metadata": {},
   "outputs": [],
   "source": [
    "spec.meta['grid_points'][43]"
   ]
  },
  {
   "cell_type": "code",
   "execution_count": null,
   "id": "c6d91fd2",
   "metadata": {},
   "outputs": [],
   "source": []
  },
  {
   "cell_type": "markdown",
   "id": "7de565c7",
   "metadata": {},
   "source": [
    "## Create heat maps"
   ]
  },
  {
   "cell_type": "code",
   "execution_count": null,
   "id": "092f5795",
   "metadata": {},
   "outputs": [],
   "source": [
    "columns = [_ for _ in range(2300, 7100, 100)]\n",
    "index = [_ for _ in range(7000, 2200, -100)]"
   ]
  },
  {
   "cell_type": "markdown",
   "id": "c2d17296",
   "metadata": {},
   "source": [
    "### Kepler heat map"
   ]
  },
  {
   "cell_type": "code",
   "execution_count": null,
   "id": "d972fd63",
   "metadata": {},
   "outputs": [],
   "source": [
    "Kepler_ratios = np.full((48,48), np.nan)"
   ]
  },
  {
   "cell_type": "code",
   "execution_count": null,
   "id": "17880c50",
   "metadata": {},
   "outputs": [],
   "source": [
    "for row in range(len(Kepler_ratios)): # Row\n",
    "    for col in range(len(Kepler_ratios)): # Column\n",
    "        if (col>=len(Kepler_ratios)-row-1):\n",
    "            spec1 = PHOENIXSpectrum(teff=2300+(col*100), logg=4.5, metallicity=0, wl_lo=5000, wl_hi=7000, path=path).instrumental_broaden(resolving_power=1000)\n",
    "            spec2 = PHOENIXSpectrum(teff=7000-(row*100), logg=4.5, metallicity=0, wl_lo=5000, wl_hi=7000, path=path).instrumental_broaden(resolving_power=1000)\n",
    "            ratio = spec2/spec1\n",
    "            mean = ratio.flux.mean()\n",
    "            Kepler_ratios[row][col] = mean"
   ]
  },
  {
   "cell_type": "code",
   "execution_count": null,
   "id": "2d926d8e",
   "metadata": {},
   "outputs": [],
   "source": [
    "# convert array into dataframe\n",
    "Kepler_ratios_df = pd.DataFrame(Kepler_ratios, columns=columns, index=index)\n",
    "\n",
    "# save the dataframe as a csv file\n",
    "Kepler_ratios_df.to_csv(\"../../data/Kepler_ratios.csv\")"
   ]
  },
  {
   "cell_type": "code",
   "execution_count": null,
   "id": "eb91ba58",
   "metadata": {},
   "outputs": [],
   "source": [
    "ax = plt.subplot(111)\n",
    "ax.imshow(Kepler_ratios)\n",
    "ax.set_xlabel('$T_{\\mathrm{amb}}$ (K)')\n",
    "ax.set_ylabel('$T_{\\mathrm{spot}}$ (K)')\n",
    "ax.set_title('Kepler $T_{\\mathrm{amb}}$ vs. $T_{\\mathrm{spot}}$ (K)')"
   ]
  },
  {
   "cell_type": "markdown",
   "id": "6d78a7ba",
   "metadata": {},
   "source": [
    "### TESS heat map"
   ]
  },
  {
   "cell_type": "code",
   "execution_count": null,
   "id": "1c40afd1",
   "metadata": {},
   "outputs": [],
   "source": [
    "TESS_ratios = np.full((48,48), np.nan)"
   ]
  },
  {
   "cell_type": "code",
   "execution_count": null,
   "id": "b5f0c62b",
   "metadata": {},
   "outputs": [],
   "source": [
    "for row in range(len(TESS_ratios)): # Row\n",
    "    for col in range(len(TESS_ratios)): # Column\n",
    "        if (col>=len(TESS_ratios)-row-1):\n",
    "            spec1 = PHOENIXSpectrum(teff=2300+(col*100), logg=4.5, metallicity=0, wl_lo=8000, wl_hi=10000, path=path).instrumental_broaden(resolving_power=1000)\n",
    "            spec2 = PHOENIXSpectrum(teff=7000-(row*100), logg=4.5, metallicity=0, wl_lo=8000, wl_hi=10000, path=path).instrumental_broaden(resolving_power=1000)\n",
    "            ratio = spec2/spec1\n",
    "            mean = ratio.flux.mean()\n",
    "            TESS_ratios[row][col] = mean"
   ]
  },
  {
   "cell_type": "code",
   "execution_count": null,
   "id": "c5cd8c97",
   "metadata": {},
   "outputs": [],
   "source": [
    "# convert array into dataframe\n",
    "TESS_ratios_df = pd.DataFrame(TESS_ratios, columns=columns, index=index)\n",
    "\n",
    "# save the dataframe as a csv file\n",
    "TESS_ratios_df.to_csv(\"../../data/TESS_ratios.csv\", index=False, header=False)"
   ]
  },
  {
   "cell_type": "code",
   "execution_count": null,
   "id": "a36b53d4",
   "metadata": {},
   "outputs": [],
   "source": [
    "ax = plt.subplot(111)\n",
    "ax.imshow(TESS_ratios)\n",
    "ax.set_xlabel('$T_{\\mathrm{amb}}$ (K)')\n",
    "ax.set_ylabel('$T_{\\mathrm{spot}}$ (K)')\n",
    "ax.set_title('TESS $T_{\\mathrm{amb}}$ vs. $T_{\\mathrm{spot}}$ (K)')"
   ]
  },
  {
   "cell_type": "markdown",
   "id": "d411bb2f",
   "metadata": {},
   "source": [
    "### Ratio of TESS over Kepler"
   ]
  },
  {
   "cell_type": "code",
   "execution_count": null,
   "id": "7c079c3f",
   "metadata": {},
   "outputs": [],
   "source": [
    "TESS_v_Kepler_ratios = np.full((48,48), np.nan)"
   ]
  },
  {
   "cell_type": "code",
   "execution_count": null,
   "id": "30ca5e5d",
   "metadata": {},
   "outputs": [],
   "source": [
    "for row in range(len(TESS_v_Kepler_ratios)): # Row\n",
    "    for col in range(len(TESS_v_Kepler_ratios)): # Column\n",
    "        if (col>=len(TESS_v_Kepler_ratios)-row-1):\n",
    "            TESS_v_Kepler_ratios[row][col] = TESS_ratios[row][col]/Kepler_ratios[row][col]"
   ]
  },
  {
   "cell_type": "code",
   "execution_count": null,
   "id": "a01f862c",
   "metadata": {},
   "outputs": [],
   "source": [
    "# convert array into dataframe\n",
    "DF = pd.DataFrame(TESS_v_Kepler_ratios)\n",
    "  \n",
    "# save the dataframe as a csv file\n",
    "DF.to_csv(\"../../data/TESS_v_Kepler_ratios.csv\", index=False, header=False)"
   ]
  },
  {
   "cell_type": "code",
   "execution_count": null,
   "id": "8d2c9f5f",
   "metadata": {},
   "outputs": [],
   "source": [
    "ax = plt.subplot(111)\n",
    "ax.imshow(TESS_v_Kepler_ratios)\n",
    "ax.set_xlabel('$T_{\\mathrm{amb}}$ (K)')\n",
    "ax.set_ylabel('$T_{\\mathrm{spot}}$ (K)')\n",
    "ax.set_title('Ratio of TESS over Kepler')"
   ]
  },
  {
   "cell_type": "markdown",
   "id": "8cca3eeb",
   "metadata": {},
   "source": [
    "### Ratio of 1-TESS over 1-Kepler"
   ]
  },
  {
   "cell_type": "code",
   "execution_count": null,
   "id": "6c81ab31",
   "metadata": {},
   "outputs": [],
   "source": [
    "one_minus_ratio = np.full((48,48), np.nan)"
   ]
  },
  {
   "cell_type": "code",
   "execution_count": null,
   "id": "fa8215d4",
   "metadata": {},
   "outputs": [],
   "source": [
    "Kepler_ratios = pd.read_csv('../../data/Kepler_ratios.csv', names=columns)\n",
    "TESS_ratios = pd.read_csv('../../data/TESS_ratios.csv', names=columns)"
   ]
  },
  {
   "cell_type": "code",
   "execution_count": null,
   "id": "e0cacecb",
   "metadata": {},
   "outputs": [],
   "source": [
    "if type(Kepler_ratios) == pd.core.frame.DataFrame:\n",
    "    Kepler_ratios = Kepler_ratios.to_numpy()\n",
    "if type(TESS_ratios) == pd.core.frame.DataFrame:\n",
    "    TESS_ratios = TESS_ratios.to_numpy()"
   ]
  },
  {
   "cell_type": "code",
   "execution_count": null,
   "id": "4e8e2a6f",
   "metadata": {},
   "outputs": [],
   "source": [
    "for row in range(len(one_minus_ratio)): # Row\n",
    "    for col in range(len(one_minus_ratio)): # Column\n",
    "        if (col>=len(one_minus_ratio)-row-1):\n",
    "            if 1-TESS_ratios[row][col] == 0 and 1-Kepler_ratios[row][col] == 0:\n",
    "                one_minus_ratio[row][col] = np.NaN\n",
    "            else:\n",
    "                one_minus_ratio[row][col] = (1-TESS_ratios[row][col])/(1-Kepler_ratios[row][col])"
   ]
  },
  {
   "cell_type": "code",
   "execution_count": null,
   "id": "0e2c5237",
   "metadata": {},
   "outputs": [],
   "source": [
    "# convert array into dataframe\n",
    "DF = pd.DataFrame(one_minus_ratio)\n",
    "  \n",
    "# save the dataframe as a csv file\n",
    "DF.to_csv(\"../../data/one_minus_ratio.csv\", index=False, header=False)"
   ]
  },
  {
   "cell_type": "code",
   "execution_count": null,
   "id": "437fbb46",
   "metadata": {
    "scrolled": true
   },
   "outputs": [],
   "source": [
    "ax = plt.subplot(111)\n",
    "ax.imshow(one_minus_ratio)\n",
    "ax.set_xlabel('$T_{\\mathrm{amb}}$ (K)')\n",
    "ax.set_ylabel('$T_{\\mathrm{spot}}$ (K)')\n",
    "ax.set_title('Ratio of 1-TESS over 1-Kepler')"
   ]
  },
  {
   "cell_type": "code",
   "execution_count": null,
   "id": "1140223a",
   "metadata": {},
   "outputs": [],
   "source": []
  },
  {
   "cell_type": "markdown",
   "id": "842b3d8d",
   "metadata": {},
   "source": [
    "## Generate graphs with CSV's"
   ]
  },
  {
   "cell_type": "code",
   "execution_count": null,
   "id": "c83b7bd2",
   "metadata": {},
   "outputs": [],
   "source": [
    "Kepler_ratios = pd.read_csv('../../data/Kepler_ratios.csv')\n",
    "TESS_ratios = pd.read_csv('../../data/TESS_ratios.csv')\n",
    "TESS_v_Kepler_ratios = pd.read_csv('../../data/TESS_v_Kepler_ratios.csv')\n",
    "one_minus_ratio = pd.read_csv('../../data/one_minus_ratio.csv')"
   ]
  },
  {
   "cell_type": "markdown",
   "id": "22db2f89",
   "metadata": {},
   "source": [
    "### Kepler"
   ]
  },
  {
   "cell_type": "markdown",
   "id": "88d316b1",
   "metadata": {},
   "source": [
    "extent : floats (left, right, bottom, top), optional\n",
    "    The bounding box in data coordinates that the image will fill.\n",
    "    The image is stretched individually along x and y to fill the box.\n",
    "\n",
    "    The default extent is determined by the following conditions.\n",
    "    Pixels have unit size in data coordinates. Their centers are on\n",
    "    integer coordinates, and their center coordinates range from 0 to\n",
    "    columns-1 horizontally and from 0 to rows-1 vertically.\n",
    "\n",
    "    Note that the direction of the vertical axis and thus the default\n",
    "    values for top and bottom depend on *origin*:\n",
    "\n",
    "    - For ``origin == 'upper'`` the default is\n",
    "      ``(-0.5, numcols-0.5, numrows-0.5, -0.5)``.\n",
    "    - For ``origin == 'lower'`` the default is\n",
    "      ``(-0.5, numcols-0.5, -0.5, numrows-0.5)``.\n",
    "\n",
    "    See the :doc:`/tutorials/intermediate/imshow_extent` tutorial for\n",
    "    examples and a more detailed description."
   ]
  },
  {
   "cell_type": "code",
   "execution_count": null,
   "id": "6508c591",
   "metadata": {},
   "outputs": [],
   "source": [
    "ax = plt.subplot()\n",
    "im = ax.imshow(Kepler_ratios, origin='upper', extent=(2300, 7000, 2300, 7000), aspect=1)\n",
    "\n",
    "divider = make_axes_locatable(ax)\n",
    "cax = divider.append_axes(\"right\", size='5%', pad=0.05)\n",
    "plt.colorbar(im, cax=cax)\n",
    "\n",
    "x = np.linspace(2300, 6300, 100)\n",
    "y = -1.1668835503435e-4*x**2 + 1.374977439464*x - 567.8141350083\n",
    "ax.plot(x, y, color='red', linestyle='dashed', label='Fang et. al. 2015')\n",
    "\n",
    "x = np.linspace(2300, 3300, 100)\n",
    "y = 0.86*x\n",
    "ax.plot(x, y, color='white', linestyle='dashed', label='Rackham 2018')\n",
    "\n",
    "x = np.linspace(3880, 6300, 100)\n",
    "y = 0.418*x + 1620\n",
    "ax.plot(x, y, color='black', linestyle='dashed', label='Rackham 2019')\n",
    "\n",
    "ax.set_xlim(2300, 6300)\n",
    "ax.set_ylim(2300, 6300)\n",
    "\n",
    "ax.legend(loc='upper left')\n",
    "ax.set_xlabel('$T_{\\mathrm{phot}}$ (K)')\n",
    "ax.set_ylabel('$T_{\\mathrm{spot}}$ (K)')\n",
    "ax.set_title('Kepler $T_{\\mathrm{phot}}$ vs. $T_{\\mathrm{spot}}$ (K)')\n",
    "\n",
    "# cax.set_title('Contrast', rotation=270)\n",
    "\n",
    "plt.savefig('../../papers/paper1/figures/Kepler_contrast.png', bbox_inches='tight', dpi=300, facecolor='white', transparent=False)"
   ]
  },
  {
   "cell_type": "markdown",
   "id": "1e3d91c6",
   "metadata": {},
   "source": [
    "### TESS"
   ]
  },
  {
   "cell_type": "code",
   "execution_count": null,
   "id": "ffdeb5cb",
   "metadata": {
    "scrolled": true
   },
   "outputs": [],
   "source": [
    "ax = plt.subplot()\n",
    "im = ax.imshow(TESS_ratios, origin='upper', extent=(2300, 7000, 2300, 7000), aspect=1)\n",
    "\n",
    "divider = make_axes_locatable(ax)\n",
    "cax = divider.append_axes(\"right\", size='5%', pad=0.05)\n",
    "plt.colorbar(im, cax=cax)\n",
    "\n",
    "x = np.linspace(2300, 6300, 100)\n",
    "y = -1.1668835503435e-4*x**2 + 1.374977439464*x - 567.8141350083\n",
    "ax.plot(x, y, color='red', linestyle='dashed', label='Fang et. al. 2015')\n",
    "\n",
    "x = np.linspace(2300, 3300, 100)\n",
    "y = 0.86*x\n",
    "ax.plot(x, y, color='white', linestyle='dashed', label='Rackham 2018')\n",
    "\n",
    "x = np.linspace(3880, 6300, 100)\n",
    "y = 0.418*x + 1620\n",
    "ax.plot(x, y, color='black', linestyle='dashed', label='Rackham 2019')\n",
    "\n",
    "ax.set_xlim(2300, 6300)\n",
    "ax.set_ylim(2300, 6300)\n",
    "\n",
    "ax.legend(loc='upper left')\n",
    "ax.set_xlabel('$T_{\\mathrm{phot}}$ (K)')\n",
    "ax.set_ylabel('$T_{\\mathrm{spot}}$ (K)')\n",
    "ax.set_title('TESS $T_{\\mathrm{phot}}$ vs. $T_{\\mathrm{spot}}$ (K)')\n",
    "\n",
    "# cax.set_title('Contrast', rotation=270)\n",
    "\n",
    "plt.savefig('../../papers/paper1/figures/TESS_contrast.png', bbox_inches='tight', dpi=300, facecolor='white', transparent=False)"
   ]
  },
  {
   "cell_type": "markdown",
   "id": "3a23ef27",
   "metadata": {},
   "source": [
    "### Ratio of TESS over Kepler"
   ]
  },
  {
   "cell_type": "code",
   "execution_count": null,
   "id": "af2772b1",
   "metadata": {},
   "outputs": [],
   "source": [
    "ax = plt.subplot()\n",
    "im = ax.imshow(TESS_v_Kepler_ratios, origin='upper', extent=(2300, 7000, 2300, 7000), aspect=1)\n",
    "\n",
    "divider = make_axes_locatable(ax)\n",
    "cax = divider.append_axes(\"right\", size='5%', pad=0.05)\n",
    "plt.colorbar(im, cax=cax)\n",
    "\n",
    "x = np.linspace(2300, 6300, 100)\n",
    "y = -1.1668835503435e-4*x**2 + 1.374977439464*x - 567.8141350083\n",
    "ax.plot(x, y, color='red', linestyle='dashed', label='Fang et. al. 2015')\n",
    "\n",
    "x = np.linspace(2300, 3300, 100)\n",
    "y = 0.86*x\n",
    "ax.plot(x, y, color='white', linestyle='dashed', label='Rackham 2018')\n",
    "\n",
    "x = np.linspace(3880, 6300, 100)\n",
    "y = 0.418*x + 1620\n",
    "ax.plot(x, y, color='black', linestyle='dashed', label='Rackham 2019')\n",
    "\n",
    "ax.set_xlim(2300, 6300)\n",
    "ax.set_ylim(2300, 6300)\n",
    "\n",
    "ax.legend(loc='upper left')\n",
    "ax.set_xlabel('$T_{\\mathrm{phot}}$ (K)')\n",
    "ax.set_ylabel('$T_{\\mathrm{spot}}$ (K)')\n",
    "ax.set_title('Ratio of TESS over Kepler')\n",
    "\n",
    "plt.savefig('../../papers/paper1/figures/TESS_v_Kepler_ratios.png', bbox_inches='tight', dpi=300, facecolor='white', transparent=False)"
   ]
  },
  {
   "cell_type": "markdown",
   "id": "684077f4",
   "metadata": {},
   "source": [
    "### Ratio of 1-TESS over 1-Kepler"
   ]
  },
  {
   "cell_type": "code",
   "execution_count": null,
   "id": "7edbceab",
   "metadata": {},
   "outputs": [],
   "source": [
    "ax = plt.subplot()\n",
    "im = ax.imshow(one_minus_ratio, origin='upper', extent=(2300, 7000, 2300, 7000), aspect=1, vmin=0, vmax=1)\n",
    "\n",
    "divider = make_axes_locatable(ax)\n",
    "cax = divider.append_axes(\"right\", size='5%', pad=0.05)\n",
    "plt.colorbar(im, cax=cax)\n",
    "\n",
    "x = np.linspace(2300, 6300, 100)\n",
    "y = -1.1668835503435e-4*x**2 + 1.374977439464*x - 567.8141350083\n",
    "ax.plot(x, y, color='red', linestyle='dashed', label='Fang et. al. 2015')\n",
    "\n",
    "x = np.linspace(2300, 3300, 100)\n",
    "y = 0.86*x\n",
    "ax.plot(x, y, color='white', linestyle='dashed', label='Rackham 2018')\n",
    "\n",
    "x = np.linspace(3880, 6300, 100)\n",
    "y = 0.418*x + 1620\n",
    "ax.plot(x, y, color='black', linestyle='dashed', label='Rackham 2019')\n",
    "\n",
    "ax.set_xlim(2300, 6300)\n",
    "ax.set_ylim(2300, 6300)\n",
    "\n",
    "ax.legend(loc='upper left')\n",
    "ax.set_xlabel('$T_{\\mathrm{phot}}$ (K)')\n",
    "ax.set_ylabel('$T_{\\mathrm{spot}}$ (K)')\n",
    "ax.set_title('Ratio of 1-TESS over 1-Kepler')\n",
    "\n",
    "plt.savefig('../../papers/paper1/figures/one_minus_ratio.png', bbox_inches='tight', dpi=300, facecolor='white', transparent=False)"
   ]
  },
  {
   "cell_type": "code",
   "execution_count": null,
   "id": "1e097bf5",
   "metadata": {},
   "outputs": [],
   "source": []
  },
  {
   "cell_type": "code",
   "execution_count": null,
   "id": "2d383e35",
   "metadata": {},
   "outputs": [],
   "source": [
    "one_minus_ratio['Unnamed: 34']\n",
    "ax = plt.subplot()\n",
    "# ax.plot(one_minus_ratio['Unnamed: 34'])\n",
    "x = np.linspace(2300, 7000, 47)\n",
    "ax.plot(x, one_minus_ratio['Unnamed: 34'])\n",
    "ax.axhline(0.75, color='red')\n",
    "\n",
    "ax.set_xlabel('')\n",
    "ax.set_ylabel('')"
   ]
  },
  {
   "cell_type": "code",
   "execution_count": null,
   "id": "503d068a",
   "metadata": {},
   "outputs": [],
   "source": []
  }
 ],
 "metadata": {
  "kernelspec": {
   "display_name": "Python 3 (ipykernel)",
   "language": "python",
   "name": "python3"
  },
  "language_info": {
   "codemirror_mode": {
    "name": "ipython",
    "version": 3
   },
   "file_extension": ".py",
   "mimetype": "text/x-python",
   "name": "python",
   "nbconvert_exporter": "python",
   "pygments_lexer": "ipython3",
   "version": "3.8.13"
  },
  "vscode": {
   "interpreter": {
    "hash": "b35b03c3ac9cbf5001493e5ff23c42dd8f9188277db64dd08850bcd62e251f33"
   }
  }
 },
 "nbformat": 4,
 "nbformat_minor": 5
}
