{
 "cells": [
  {
   "cell_type": "markdown",
   "id": "8085a089",
   "metadata": {},
   "source": [
    "# Temperature Exploration\n",
    "\n",
    "February 24, 2023  \n",
    "Gully & Ryan H.\n",
    "\n",
    "Using Fleck and Batman to create cartoons showing how starspots effect the flux of stars."
   ]
  },
  {
   "cell_type": "code",
   "execution_count": null,
   "id": "03f6b460",
   "metadata": {},
   "outputs": [],
   "source": [
    "from batman import TransitParams\n",
    "import matplotlib.pyplot as plt\n",
    "import numpy as np\n",
    "import astropy.units as u\n",
    "from fleck import Star"
   ]
  },
  {
   "cell_type": "markdown",
   "id": "65f22eec",
   "metadata": {},
   "source": [
    "## Example from website:"
   ]
  },
  {
   "cell_type": "code",
   "execution_count": null,
   "id": "554d2c38",
   "metadata": {},
   "outputs": [],
   "source": [
    "planet = TransitParams() # we are using a planet to simulate a starspot since they act in a similar manner\n",
    "planet.per = 88 # orbital period\n",
    "planet.a = float(0.387*u.AU / u.R_sun) # Semi-major axis [in stellar radii].\n",
    "planet.rp = 0.1 # Planet radius [in stellar radii].\n",
    "planet.w = 90 # Argument of periapse [in degrees]\n",
    "planet.ecc = 0 # Orbital eccentricity.\n",
    "planet.inc = 89.65 # Orbital inclination [in degrees].\n",
    "planet.t0 = 0 # Time of inferior conjunction.\n",
    "planet.limb_dark = 'quadratic' # Limb darkening model\n",
    "planet.u = [0.5079, 0.2239] # List of limb darkening coefficients.\n",
    "planet.lam = 45"
   ]
  },
  {
   "cell_type": "code",
   "execution_count": null,
   "id": "63bb37e0",
   "metadata": {},
   "outputs": [],
   "source": [
    "inc_stellar = 70 * u.deg\n",
    "spot_radii = np.array([[0.1], [0.1]])\n",
    "spot_lons = np.array([[0], [0]]) * u.deg\n",
    "spot_lats = np.array([[25], [-25]]) * u.deg"
   ]
  },
  {
   "cell_type": "code",
   "execution_count": null,
   "id": "a699f4d1",
   "metadata": {},
   "outputs": [],
   "source": [
    "times = np.linspace(-0.5, 0.5, 500)"
   ]
  },
  {
   "cell_type": "code",
   "execution_count": null,
   "id": "43700367",
   "metadata": {},
   "outputs": [],
   "source": [
    "star = Star(spot_contrast=0.7, u_ld=planet.u, rotation_period=10)"
   ]
  },
  {
   "cell_type": "code",
   "execution_count": null,
   "id": "0366884a",
   "metadata": {},
   "outputs": [],
   "source": [
    "lc = star.light_curve(spot_lons, spot_lats, spot_radii,\n",
    "                      inc_stellar, planet=planet, times=times)"
   ]
  },
  {
   "cell_type": "code",
   "execution_count": null,
   "id": "03bf833d",
   "metadata": {},
   "outputs": [],
   "source": [
    "plt.plot(times, lc, color='k')\n",
    "plt.show()"
   ]
  },
  {
   "cell_type": "code",
   "execution_count": null,
   "id": "ec88fcb7",
   "metadata": {},
   "outputs": [],
   "source": [
    "ax = star.plot(spot_lons, spot_lats, spot_radii, inc_stellar, planet=planet, time=0)\n",
    "plt.show()"
   ]
  },
  {
   "cell_type": "markdown",
   "id": "1d7518fb",
   "metadata": {},
   "source": [
    "## Testing:"
   ]
  },
  {
   "cell_type": "code",
   "execution_count": null,
   "id": "907f8e56",
   "metadata": {},
   "outputs": [],
   "source": [
    "planet = TransitParams() # we are using a planet to simulate a starspot since they act in a similar manner\n",
    "planet.per = 40 # orbital period\n",
    "planet.a = float(0.387*u.AU / u.R_sun) # Semi-major axis [in stellar radii].\n",
    "planet.rp = 0.3 # Planet radius [in stellar radii].\n",
    "planet.w = 90 # Argument of periapse [in degrees]\n",
    "planet.ecc = 0 # Orbital eccentricity.\n",
    "planet.inc = 89.65 # Orbital inclination [in degrees].\n",
    "planet.t0 = 0 # Time of inferior conjunction.\n",
    "planet.limb_dark = 'quadratic' # Limb darkening model\n",
    "planet.u = [0.5079, 0.2239] # List of limb darkening coefficients.\n",
    "planet.lam = 45\n",
    "\n",
    "inc_stellar = 70 * u.deg\n",
    "spot_radii = np.array([[0.1], [0.1]])\n",
    "spot_lons = np.array([[0], [0]]) * u.deg\n",
    "spot_lats = np.array([[25], [-25]]) * u.deg\n",
    "\n",
    "times = np.linspace(-0.5, 0.5, 500)\n",
    "\n",
    "star = Star(spot_contrast=0.7, u_ld=planet.u, rotation_period=10)\n",
    "\n",
    "lc = star.light_curve(spot_lons, spot_lats, spot_radii,\n",
    "                      inc_stellar, planet=planet, times=times)"
   ]
  },
  {
   "cell_type": "code",
   "execution_count": null,
   "id": "834de62c",
   "metadata": {},
   "outputs": [],
   "source": [
    "plt.plot(times, lc, color='k')\n",
    "plt.ylabel(\"Flux [$\\mathrm{e}^{-1} \\mathrm{s}^{-1}$]\")\n",
    "plt.xlabel(\"Period\")\n",
    "plt.title(\"Lightcurve Model\")\n",
    "plt.show()"
   ]
  },
  {
   "cell_type": "code",
   "execution_count": null,
   "id": "c49884bd",
   "metadata": {},
   "outputs": [],
   "source": [
    "ax = star.plot(spot_lons, spot_lats, spot_radii, inc_stellar, planet=planet, time=0)\n",
    "plt.ylabel(\"Flux [$\\mathrm{e}^{-1} \\mathrm{s}^{-1}$]\")\n",
    "plt.xlabel(\"Period\")\n",
    "plt.title(\"Star Model\")\n",
    "plt.show()"
   ]
  },
  {
   "cell_type": "code",
   "execution_count": null,
   "id": "6a40c6b7",
   "metadata": {},
   "outputs": [],
   "source": []
  }
 ],
 "metadata": {
  "kernelspec": {
   "display_name": "Python 3 (ipykernel)",
   "language": "python",
   "name": "python3"
  },
  "language_info": {
   "codemirror_mode": {
    "name": "ipython",
    "version": 3
   },
   "file_extension": ".py",
   "mimetype": "text/x-python",
   "name": "python",
   "nbconvert_exporter": "python",
   "pygments_lexer": "ipython3",
   "version": "3.8.16"
  }
 },
 "nbformat": 4,
 "nbformat_minor": 5
}
