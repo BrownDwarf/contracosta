{
 "cells": [
  {
   "cell_type": "markdown",
   "id": "8085a089",
   "metadata": {},
   "source": [
    "# Temperature Exploration\n",
    "\n",
    "February 10, 2023  \n",
    "Gully & Ryan H.\n",
    "\n",
    "Using Fleck to create cartoons."
   ]
  },
  {
   "cell_type": "code",
   "execution_count": null,
   "id": "6306b8be",
   "metadata": {},
   "outputs": [],
   "source": []
  }
 ],
 "metadata": {
  "kernelspec": {
   "display_name": "Python 3 (ipykernel)",
   "language": "python",
   "name": "python3"
  },
  "language_info": {
   "codemirror_mode": {
    "name": "ipython",
    "version": 3
   },
   "file_extension": ".py",
   "mimetype": "text/x-python",
   "name": "python",
   "nbconvert_exporter": "python",
   "pygments_lexer": "ipython3",
   "version": "3.8.13"
  }
 },
 "nbformat": 4,
 "nbformat_minor": 5
}
