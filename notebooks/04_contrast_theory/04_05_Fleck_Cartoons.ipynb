{
 "cells": [
  {
   "cell_type": "markdown",
   "id": "8085a089",
   "metadata": {},
   "source": [
    "# Temperature Exploration\n",
    "\n",
    "April 3, 2023  \n",
    "Gully & Ryan H.\n",
    "\n",
    "Using Fleck and Batman to create cartoons showing how starspots effect the flux of stars."
   ]
  },
  {
   "cell_type": "code",
   "execution_count": null,
   "id": "03f6b460",
   "metadata": {},
   "outputs": [],
   "source": [
    "from batman import TransitParams, TransitModel\n",
    "import pandas as pd\n",
    "import matplotlib.pyplot as plt\n",
    "import numpy as np\n",
    "import astropy.units as u\n",
    "from fleck import Star\n",
    "import lightkurve as lk"
   ]
  },
  {
   "cell_type": "markdown",
   "id": "65f22eec",
   "metadata": {},
   "source": [
    "## Example from website:"
   ]
  },
  {
   "cell_type": "code",
   "execution_count": null,
   "id": "554d2c38",
   "metadata": {},
   "outputs": [],
   "source": [
    "planet = TransitParams() # we are using a planet to simulate a starspot since they act in a similar manner\n",
    "planet.per = 88 # orbital period\n",
    "planet.a = float(0.387*u.AU / u.R_sun) # Semi-major axis [in stellar radii].\n",
    "planet.rp = 0.1 # Planet radius [in stellar radii].\n",
    "planet.w = 90 # Argument of periapse [in degrees]\n",
    "planet.ecc = 0 # Orbital eccentricity.\n",
    "planet.inc = 89.65 # Orbital inclination [in degrees].\n",
    "planet.t0 = 0 # Time of inferior conjunction.\n",
    "planet.limb_dark = 'quadratic' # Limb darkening model\n",
    "planet.u = [0.5079, 0.2239] # List of limb darkening coefficients.\n",
    "planet.lam = 45"
   ]
  },
  {
   "cell_type": "code",
   "execution_count": null,
   "id": "63bb37e0",
   "metadata": {},
   "outputs": [],
   "source": [
    "inc_stellar = 70 * u.deg\n",
    "spot_radii = np.array([[0.1], [0.1]])\n",
    "spot_lons = np.array([[0], [0]]) * u.deg\n",
    "spot_lats = np.array([[25], [-25]]) * u.deg"
   ]
  },
  {
   "cell_type": "code",
   "execution_count": null,
   "id": "a699f4d1",
   "metadata": {},
   "outputs": [],
   "source": [
    "times = np.linspace(-0.5, 0.5, 500)"
   ]
  },
  {
   "cell_type": "code",
   "execution_count": null,
   "id": "43700367",
   "metadata": {},
   "outputs": [],
   "source": [
    "star = Star(spot_contrast=0.7, u_ld=planet.u, rotation_period=10)"
   ]
  },
  {
   "cell_type": "code",
   "execution_count": null,
   "id": "0366884a",
   "metadata": {},
   "outputs": [],
   "source": [
    "lc = star.light_curve(spot_lons, spot_lats, spot_radii,\n",
    "                      inc_stellar, planet=planet, times=times)"
   ]
  },
  {
   "cell_type": "code",
   "execution_count": null,
   "id": "03bf833d",
   "metadata": {},
   "outputs": [],
   "source": [
    "plt.plot(times, lc, color='k')\n",
    "plt.show()"
   ]
  },
  {
   "cell_type": "code",
   "execution_count": null,
   "id": "ec88fcb7",
   "metadata": {},
   "outputs": [],
   "source": [
    "ax = star.plot(spot_lons, spot_lats, spot_radii, inc_stellar, planet=planet, time=0)\n",
    "plt.show()"
   ]
  },
  {
   "cell_type": "markdown",
   "id": "1d7518fb",
   "metadata": {},
   "source": [
    "## Testing:"
   ]
  },
  {
   "cell_type": "code",
   "execution_count": null,
   "id": "457539e8",
   "metadata": {},
   "outputs": [],
   "source": [
    "# Choose random ligthcurve to model in Fleck:\n",
    "df = pd.read_csv('../../data/Rapid_Rotator_Sample.csv')\n",
    "random = df.iloc[2230].EPIC\n",
    "print(random)\n",
    "sr = lk.search_lightcurve(f\"EPIC {random}\", mission='TESS')\n",
    "lc = sr[0].download().remove_nans().remove_outliers().normalize()#.flatten()\n",
    "scalar = np.nanpercentile(lc.flux, 98)\n",
    "lc = lc/scalar\n",
    "lc.plot()\n",
    "plt.xlim(1573, 1579.5)\n",
    "plt.ylim(0.965, 1.01)\n",
    "plt.show()"
   ]
  },
  {
   "cell_type": "code",
   "execution_count": null,
   "id": "907f8e56",
   "metadata": {},
   "outputs": [],
   "source": [
    "planet = TransitParams() # we are using a planet to simulate a starspot since they act in a similar manner\n",
    "planet.per = 1000 # orbital period\n",
    "planet.a = float(0.29*u.AU / u.R_sun) # Semi-major axis [in stellar radii].\n",
    "planet.rp = 0.15 # Planet radius [in stellar radii].\n",
    "planet.w = 80 # Argument of periapse [in degrees]\n",
    "planet.ecc = 0.1 # Orbital eccentricity.\n",
    "planet.inc = 90 # Orbital inclination [in degrees].\n",
    "planet.t0 = 0 # Time of inferior conjunction.\n",
    "planet.limb_dark = 'quadratic' # Limb darkening model\n",
    "planet.u = [0.5079, 0.2239] # List of limb darkening coefficients.\n",
    "planet.lam = 0\n",
    "\n",
    "inc_stellar = 45 * u.deg\n",
    "# spot_radii = np.array([[0.1], [0.1]])\n",
    "# spot_lats = np.array([[90], [0]]) * u.deg\n",
    "# spot_lons = np.array([[330], [30]]) * u.deg\n",
    "\n",
    "spot_radii = np.array([[0.1]])\n",
    "spot_lats = np.array([10]) * u.deg\n",
    "spot_lons = np.array([90]) * u.deg\n",
    "\n",
    "\n",
    "times = np.linspace(-3, 3, 100)\n",
    "\n",
    "star = Star(spot_contrast=0.7, u_ld=planet.u, rotation_period=10)\n",
    "\n",
    "lc = star.light_curve(spot_lons, spot_lats, spot_radii,\n",
    "                      inc_stellar, planet=planet, times=times)\n",
    "\n",
    "\n",
    "plt.plot(times, lc, color='k')\n",
    "plt.ylabel(\"Flux [$\\mathrm{e}^{-1} \\mathrm{s}^{-1}$]\")\n",
    "plt.xlabel(\"Period [d]\")\n",
    "plt.title(\"Lightcurve Model\")\n",
    "plt.ylim(0.965, 1.01)\n",
    "plt.show()"
   ]
  },
  {
   "cell_type": "code",
   "execution_count": null,
   "id": "c49884bd",
   "metadata": {},
   "outputs": [],
   "source": [
    "ax = star.plot(spot_lons, spot_lats, spot_radii, inc_stellar, planet=planet, time=0)\n",
    "plt.ylabel(\"Flux [$\\mathrm{e}^{-1} \\mathrm{s}^{-1}$]\")\n",
    "plt.xlabel(\"Period [d]\")\n",
    "plt.title(\"Star Model\")\n",
    "plt.show()"
   ]
  },
  {
   "cell_type": "code",
   "execution_count": null,
   "id": "abd4b733",
   "metadata": {
    "scrolled": true
   },
   "outputs": [],
   "source": [
    "planet = TransitParams() # we are using a planet to simulate a starspot since they act in a similar manner\n",
    "planet.per = 1000 # orbital period\n",
    "planet.a = float(0.29*u.AU / u.R_sun) # Semi-major axis [in stellar radii].\n",
    "planet.rp = 0.15 # Planet radius [in stellar radii].\n",
    "planet.w = 80 # Argument of periapse [in degrees]\n",
    "planet.ecc = 0.1 # Orbital eccentricity.\n",
    "planet.inc = 90 # Orbital inclination [in degrees].\n",
    "planet.t0 = 0 # Time of inferior conjunction.\n",
    "planet.limb_dark = 'quadratic' # Limb darkening model\n",
    "planet.u = [0.5079, 0.2239] # List of limb darkening coefficients.\n",
    "planet.lam = 45\n",
    "\n",
    "inc_stellar = 45 * u.deg\n",
    "\n",
    "for i in range(19):\n",
    "    spot_radii = np.array([[0.1]])\n",
    "    spot_lats = np.array([-90+(i*10)]) * u.deg\n",
    "    spot_lons = np.array([300]) * u.deg\n",
    "\n",
    "\n",
    "    times = np.linspace(-3, 3, 500)\n",
    "\n",
    "    star = Star(spot_contrast=0.7, u_ld=planet.u, rotation_period=10)\n",
    "\n",
    "    lc = star.light_curve(spot_lons, spot_lats, spot_radii,\n",
    "                          inc_stellar, planet=planet, times=times)\n",
    "\n",
    "\n",
    "#     ax = star.plot(spot_lons, spot_lats, spot_radii, inc_stellar, planet=planet, time=0)\n",
    "#     plt.ylabel(\"Flux [$\\mathrm{e}^{-1} \\mathrm{s}^{-1}$]\")\n",
    "#     plt.xlabel(\"Period [d]\")\n",
    "#     plt.title(\"Star Model\")\n",
    "#     plt.show()\n",
    "    plt.plot(times, lc, color='k')\n",
    "    plt.ylabel(\"Flux [$\\mathrm{e}^{-1} \\mathrm{s}^{-1}$]\")\n",
    "    plt.xlabel(\"Period [d]\")\n",
    "    plt.title(\"Lightcurve Model\")\n",
    "    plt.ylim(0.965, 1.01)\n",
    "    plt.show()"
   ]
  },
  {
   "cell_type": "code",
   "execution_count": null,
   "id": "e559fc58",
   "metadata": {},
   "outputs": [],
   "source": []
  },
  {
   "cell_type": "code",
   "execution_count": null,
   "id": "f27dc058",
   "metadata": {},
   "outputs": [],
   "source": []
  },
  {
   "cell_type": "markdown",
   "id": "a763b253",
   "metadata": {},
   "source": [
    "## Try another star"
   ]
  },
  {
   "cell_type": "code",
   "execution_count": null,
   "id": "cc547ed5",
   "metadata": {},
   "outputs": [],
   "source": [
    "# Choose random ligthcurve to model in Fleck:\n",
    "df = pd.read_csv('../../data/Rapid_Rotator_Sample.csv') # len = 4196\n",
    "random = df.iloc[2955].EPIC\n",
    "sr = lk.search_lightcurve(f\"EPIC {random}\", mission='TESS')\n",
    "lc = sr[0].download().remove_nans().remove_outliers().normalize()#.flatten()\n",
    "scalar = np.nanpercentile(lc.flux, 98)\n",
    "lc = lc/scalar\n",
    "lc.plot()\n",
    "plt.xlim(1902.5, 1906.5)\n",
    "plt.ylim(0.968, 1.01)\n",
    "plt.show()"
   ]
  },
  {
   "cell_type": "code",
   "execution_count": null,
   "id": "d500d2f4",
   "metadata": {},
   "outputs": [],
   "source": [
    "planet = TransitParams() # we are using a planet to simulate a starspot since they act in a similar manner\n",
    "planet.per = 1000 # orbital period\n",
    "planet.a = float(0.29*u.AU / u.R_sun) # Semi-major axis [in stellar radii].\n",
    "planet.rp = 0.15 # Planet radius [in stellar radii].\n",
    "planet.w = 80 # Argument of periapse [in degrees]\n",
    "planet.ecc = 0.1 # Orbital eccentricity.\n",
    "planet.inc = 90 # Orbital inclination [in degrees].\n",
    "planet.t0 = 0 # Time of inferior conjunction.\n",
    "planet.limb_dark = 'quadratic' # Limb darkening model\n",
    "planet.u = [0.5079, 0.2239] # List of limb darkening coefficients.\n",
    "planet.lam = 0\n",
    "\n",
    "inc_stellar = 45 * u.deg\n",
    "# spot_radii = np.array([[0.1], [0.1]])\n",
    "# spot_lats = np.array([[90], [0]]) * u.deg\n",
    "# spot_lons = np.array([[330], [30]]) * u.deg\n",
    "\n",
    "spot_radii = np.array([[0.1]])\n",
    "spot_lats = np.array([10]) * u.deg\n",
    "spot_lons = np.array([90]) * u.deg\n",
    "\n",
    "\n",
    "times = np.linspace(-3, 3, 100)\n",
    "\n",
    "star = Star(spot_contrast=0.7, u_ld=planet.u, rotation_period=10)\n",
    "\n",
    "lc = star.light_curve(spot_lons, spot_lats, spot_radii,\n",
    "                      inc_stellar, planet=planet, times=times)\n",
    "\n",
    "\n",
    "plt.plot(times, lc, color='k')\n",
    "plt.ylabel(\"Flux [$\\mathrm{e}^{-1} \\mathrm{s}^{-1}$]\")\n",
    "plt.xlabel(\"Period [d]\")\n",
    "plt.title(\"Lightcurve Model\")\n",
    "plt.ylim(0.965, 1.01)\n",
    "plt.show()"
   ]
  },
  {
   "cell_type": "code",
   "execution_count": null,
   "id": "ee7cbfaf",
   "metadata": {},
   "outputs": [],
   "source": [
    "ax = star.plot(spot_lons, spot_lats, spot_radii, inc_stellar, planet=planet, time=0)\n",
    "plt.ylabel(\"Flux [$\\mathrm{e}^{-1} \\mathrm{s}^{-1}$]\")\n",
    "plt.xlabel(\"Period [d]\")\n",
    "plt.title(\"Star Model\")\n",
    "plt.show()"
   ]
  }
 ],
 "metadata": {
  "kernelspec": {
   "display_name": "Python 3 (ipykernel)",
   "language": "python",
   "name": "python3"
  },
  "language_info": {
   "codemirror_mode": {
    "name": "ipython",
    "version": 3
   },
   "file_extension": ".py",
   "mimetype": "text/x-python",
   "name": "python",
   "nbconvert_exporter": "python",
   "pygments_lexer": "ipython3",
   "version": "3.8.16"
  }
 },
 "nbformat": 4,
 "nbformat_minor": 5
}
