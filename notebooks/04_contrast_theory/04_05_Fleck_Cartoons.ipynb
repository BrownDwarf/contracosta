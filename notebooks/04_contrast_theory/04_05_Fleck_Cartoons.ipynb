{
 "cells": [
  {
   "cell_type": "markdown",
   "id": "8085a089",
   "metadata": {},
   "source": [
    "# Temperature Exploration\n",
    "\n",
    "April 21, 2023  \n",
    "Gully & Ryan H.\n",
    "\n",
    "Using Fleck to create cartoons showing how starspots effect the flux of stars."
   ]
  },
  {
   "cell_type": "code",
   "execution_count": null,
   "id": "03f6b460",
   "metadata": {},
   "outputs": [],
   "source": [
    "import pandas as pd\n",
    "import matplotlib.pyplot as plt\n",
    "import numpy as np\n",
    "import astropy.units as u\n",
    "from fleck import Star, generate_spots\n",
    "import lightkurve as lk"
   ]
  },
  {
   "cell_type": "markdown",
   "id": "65f22eec",
   "metadata": {},
   "source": [
    "## Example from website:"
   ]
  },
  {
   "cell_type": "code",
   "execution_count": null,
   "id": "554d2c38",
   "metadata": {},
   "outputs": [],
   "source": [
    "spot_contrast = 0.7\n",
    "u_ld = [0.5079, 0.2239]\n",
    "\n",
    "n_phases = 30\n",
    "n_inclinations = 100\n",
    "n_spots = 3\n",
    "\n",
    "spot_radius = 0.1   # Rspot/Rstar\n",
    "min_latitude = 70   # deg\n",
    "max_latitude = 90   # deg\n",
    "\n",
    "lons, lats, radii, inc_stellar = generate_spots(min_latitude, max_latitude,\n",
    "                                                spot_radius, n_spots,\n",
    "                                                n_inclinations=n_inclinations)\n",
    "\n",
    "star = Star(spot_contrast=spot_contrast, n_phases=n_phases, u_ld=u_ld)\n",
    "\n",
    "lcs = star.light_curve(lons, lats, radii, inc_stellar)\n",
    "\n",
    "plt.plot(star.phases, lcs)\n",
    "plt.show()"
   ]
  },
  {
   "cell_type": "markdown",
   "id": "1d7518fb",
   "metadata": {},
   "source": [
    "## Testing:"
   ]
  },
  {
   "cell_type": "code",
   "execution_count": null,
   "id": "ec845b21",
   "metadata": {},
   "outputs": [],
   "source": [
    "spot_contrast = 0.6 # contrast ratio\n",
    "u_ld = [0.5079, 0.2239] # limb darkening\n",
    "\n",
    "n_phases = 30 # number of generated phases\n",
    "n_inclinations = 100 # number of inclinations\n",
    "n_spots = 3 # number of spots\n",
    "\n",
    "spot_radius = 0.1   # Rspot/Rstar\n",
    "min_latitude = 70   # deg\n",
    "max_latitude = 90   # deg\n",
    "\n",
    "lons, lats, radii, inc_stellar = generate_spots(min_latitude, max_latitude,\n",
    "                                                spot_radius, n_spots,\n",
    "                                                n_inclinations=n_inclinations)\n",
    "\n",
    "star = Star(spot_contrast=spot_contrast, n_phases=n_phases, u_ld=u_ld)\n",
    "\n",
    "lcs = star.light_curve(lons, lats, radii, inc_stellar)\n",
    "\n",
    "plt.plot(star.phases, lcs)\n",
    "plt.show()"
   ]
  },
  {
   "cell_type": "code",
   "execution_count": null,
   "id": "4006d74e",
   "metadata": {},
   "outputs": [],
   "source": []
  }
 ],
 "metadata": {
  "kernelspec": {
   "display_name": "Python 3 (ipykernel)",
   "language": "python",
   "name": "python3"
  },
  "language_info": {
   "codemirror_mode": {
    "name": "ipython",
    "version": 3
   },
   "file_extension": ".py",
   "mimetype": "text/x-python",
   "name": "python",
   "nbconvert_exporter": "python",
   "pygments_lexer": "ipython3",
   "version": "3.8.16"
  }
 },
 "nbformat": 4,
 "nbformat_minor": 5
}
